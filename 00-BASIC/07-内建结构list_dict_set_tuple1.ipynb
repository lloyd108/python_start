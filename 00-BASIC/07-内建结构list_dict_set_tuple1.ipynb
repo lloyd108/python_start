{
 "cells": [
  {
   "cell_type": "markdown",
   "metadata": {},
   "source": [
    "# 汉诺塔问题\n",
    "- 规则:\n",
    "    1. 每次移动一个盘子\n",
    "    2. 任何时候大盘子在下面, 小盘子在上面\n",
    "- 方法:\n",
    "    1. n=1: 直接把A商的盘子移动到C上, A->C\n",
    "    2. n=2:\n",
    "        1. 把小盘子从A放到B上, A->B\n",
    "        2. 把大盘子从A放到C上, A->C\n",
    "        3. 把小盘子从B放到C上, B->C\n",
    "    3. n=3:\n",
    "        1. 把A上的两个盘子, 通过C移动到B上去, 调用递归实现\n",
    "        2. 把A上剩下的一个最大盘子移动到C上, A->C\n",
    "        3. 把B上两个盘子, 借助于A, 挪到C上去, 调用递归\n",
    "    4. n=n:\n",
    "        1. 把A上的n-1个盘子,通过C移动到B上去, 调用递归实现\n",
    "        2. 把A上剩下的一个最大盘子移动到C上, A->C\n",
    "        3. 把B上n-1个盘子, 借助于A, 挪到C上去, 调用递归"
   ]
  },
  {
   "cell_type": "code",
   "execution_count": 7,
   "metadata": {},
   "outputs": [
    {
     "name": "stdout",
     "output_type": "stream",
     "text": [
      "第1个盘子:A --> C\n"
     ]
    }
   ],
   "source": [
    "# 函数实现:\n",
    "\n",
    "def hannuota(n, A, B, C):\n",
    "    '''\n",
    "    汉诺塔的递归实现\n",
    "    n: 代表几个盘子\n",
    "    A: 代表第一个塔\n",
    "    B: 代表第二个塔\n",
    "    C: 代表第三个塔\n",
    "    '''\n",
    "    if n == 1:\n",
    "        print(\"第{0}个盘子:{1} --> {2}\".format(n, A, C))\n",
    "    else:\n",
    "        hannuota(n-1, A, C, B)\n",
    "        print(\"第{0}个盘子:{1} --> {2}\".format(n, A, C))\n",
    "        hannuota(n-1, B, A, C)\n",
    "    \n",
    "hannuota(1, \"A\", \"B\", \"C\")"
   ]
  },
  {
   "cell_type": "code",
   "execution_count": 8,
   "metadata": {},
   "outputs": [
    {
     "name": "stdout",
     "output_type": "stream",
     "text": [
      "第1个盘子:A --> B\n",
      "第2个盘子:A --> C\n",
      "第1个盘子:B --> C\n"
     ]
    }
   ],
   "source": [
    "hannuota(2, \"A\", \"B\", \"C\")"
   ]
  },
  {
   "cell_type": "code",
   "execution_count": 9,
   "metadata": {},
   "outputs": [
    {
     "name": "stdout",
     "output_type": "stream",
     "text": [
      "第1个盘子:A --> C\n",
      "第2个盘子:A --> B\n",
      "第1个盘子:C --> B\n",
      "第3个盘子:A --> C\n",
      "第1个盘子:B --> A\n",
      "第2个盘子:B --> C\n",
      "第1个盘子:A --> C\n"
     ]
    }
   ],
   "source": [
    "hannuota(3, \"A\", \"B\", \"C\")"
   ]
  },
  {
   "cell_type": "code",
   "execution_count": 10,
   "metadata": {},
   "outputs": [
    {
     "name": "stdout",
     "output_type": "stream",
     "text": [
      "第1个盘子:A --> C\n",
      "第2个盘子:A --> B\n",
      "第1个盘子:C --> B\n",
      "第3个盘子:A --> C\n",
      "第1个盘子:B --> A\n",
      "第2个盘子:B --> C\n",
      "第1个盘子:A --> C\n",
      "第4个盘子:A --> B\n",
      "第1个盘子:C --> B\n",
      "第2个盘子:C --> A\n",
      "第1个盘子:B --> A\n",
      "第3个盘子:C --> B\n",
      "第1个盘子:A --> C\n",
      "第2个盘子:A --> B\n",
      "第1个盘子:C --> B\n",
      "第5个盘子:A --> C\n",
      "第1个盘子:B --> A\n",
      "第2个盘子:B --> C\n",
      "第1个盘子:A --> C\n",
      "第3个盘子:B --> A\n",
      "第1个盘子:C --> B\n",
      "第2个盘子:C --> A\n",
      "第1个盘子:B --> A\n",
      "第4个盘子:B --> C\n",
      "第1个盘子:A --> C\n",
      "第2个盘子:A --> B\n",
      "第1个盘子:C --> B\n",
      "第3个盘子:A --> C\n",
      "第1个盘子:B --> A\n",
      "第2个盘子:B --> C\n",
      "第1个盘子:A --> C\n"
     ]
    }
   ],
   "source": [
    "hannuota(5, \"A\", \"B\", \"C\")"
   ]
  },
  {
   "cell_type": "markdown",
   "metadata": {},
   "source": [
    "# list(列表)\n",
    "- del: 删除命令"
   ]
  },
  {
   "cell_type": "code",
   "execution_count": 17,
   "metadata": {},
   "outputs": [
    {
     "name": "stdout",
     "output_type": "stream",
     "text": [
      "2237182918088\n",
      "2237182918088\n",
      "[1, 2, 3, 5]\n"
     ]
    }
   ],
   "source": [
    "# del 删除\n",
    "# 如果使用del之后, id的值和删除前不一样, 则说明删除生成了一个新的list\n",
    "l = list()\n",
    "l = [1,2,3,4,5]\n",
    "\n",
    "print(id(l))\n",
    "del l[3]\n",
    "print(id(l))\n",
    "print(l)"
   ]
  },
  {
   "cell_type": "code",
   "execution_count": 19,
   "metadata": {},
   "outputs": [
    {
     "ename": "NameError",
     "evalue": "name 'l' is not defined",
     "output_type": "error",
     "traceback": [
      "\u001b[1;31m---------------------------------------------------------------------------\u001b[0m",
      "\u001b[1;31mNameError\u001b[0m                                 Traceback (most recent call last)",
      "\u001b[1;32m<ipython-input-19-6bfbe3e5481c>\u001b[0m in \u001b[0;36m<module>\u001b[1;34m()\u001b[0m\n\u001b[0;32m      1\u001b[0m \u001b[1;31m# del一个变量后不能再继续使用此变量\u001b[0m\u001b[1;33m\u001b[0m\u001b[1;33m\u001b[0m\u001b[0m\n\u001b[1;32m----> 2\u001b[1;33m \u001b[1;32mdel\u001b[0m \u001b[0ml\u001b[0m\u001b[1;33m\u001b[0m\u001b[0m\n\u001b[0m\u001b[0;32m      3\u001b[0m \u001b[0mprint\u001b[0m\u001b[1;33m(\u001b[0m\u001b[0ml\u001b[0m\u001b[1;33m)\u001b[0m\u001b[1;33m\u001b[0m\u001b[0m\n",
      "\u001b[1;31mNameError\u001b[0m: name 'l' is not defined"
     ]
    }
   ],
   "source": [
    "# del一个变量后不能再继续使用此变量\n",
    "del l\n",
    "print(l)"
   ]
  },
  {
   "cell_type": "code",
   "execution_count": 20,
   "metadata": {},
   "outputs": [
    {
     "name": "stdout",
     "output_type": "stream",
     "text": [
      "[1, 2, 3, 4, 5, 6, 7, 8, 9, 0, 'a', 'b', 'c']\n"
     ]
    }
   ],
   "source": [
    "# 使用加号链接两个列表\n",
    "a = [1, 2, 3, 4, 5]\n",
    "b = [6, 7, 8, 9, 0]\n",
    "c = ['a', 'b', 'c']\n",
    "d = a + b + c\n",
    "print(d)"
   ]
  },
  {
   "cell_type": "code",
   "execution_count": 22,
   "metadata": {},
   "outputs": [
    {
     "name": "stdout",
     "output_type": "stream",
     "text": [
      "['I', 'Love', 'Bingbing', 'I', 'Love', 'Bingbing', 'I', 'Love', 'Bingbing']\n"
     ]
    },
    {
     "ename": "TypeError",
     "evalue": "can't multiply sequence by non-int of type 'list'",
     "output_type": "error",
     "traceback": [
      "\u001b[1;31m---------------------------------------------------------------------------\u001b[0m",
      "\u001b[1;31mTypeError\u001b[0m                                 Traceback (most recent call last)",
      "\u001b[1;32m<ipython-input-22-c04c3d2e5f80>\u001b[0m in \u001b[0;36m<module>\u001b[1;34m()\u001b[0m\n\u001b[0;32m      8\u001b[0m \u001b[0ma\u001b[0m \u001b[1;33m=\u001b[0m \u001b[1;33m[\u001b[0m\u001b[1;34m'a'\u001b[0m\u001b[1;33m,\u001b[0m \u001b[1;34m'b'\u001b[0m\u001b[1;33m]\u001b[0m\u001b[1;33m\u001b[0m\u001b[0m\n\u001b[0;32m      9\u001b[0m \u001b[0mb\u001b[0m \u001b[1;33m=\u001b[0m \u001b[1;33m[\u001b[0m\u001b[1;34m'c'\u001b[0m\u001b[1;33m,\u001b[0m \u001b[1;34m'd'\u001b[0m\u001b[1;33m]\u001b[0m\u001b[1;33m\u001b[0m\u001b[0m\n\u001b[1;32m---> 10\u001b[1;33m \u001b[0mc\u001b[0m \u001b[1;33m=\u001b[0m \u001b[0ma\u001b[0m \u001b[1;33m*\u001b[0m \u001b[0mb\u001b[0m\u001b[1;33m\u001b[0m\u001b[0m\n\u001b[0m\u001b[0;32m     11\u001b[0m \u001b[0mprint\u001b[0m\u001b[1;33m(\u001b[0m\u001b[0mc\u001b[0m\u001b[1;33m)\u001b[0m\u001b[1;33m\u001b[0m\u001b[0m\n",
      "\u001b[1;31mTypeError\u001b[0m: can't multiply sequence by non-int of type 'list'"
     ]
    }
   ],
   "source": [
    "# 使用乘号操作列表\n",
    "# 列表直接跟一个整数相乘\n",
    "# 相当于把n个列表接在一起\n",
    "a = [\"I\", \"Love\", \"Bingbing\"]\n",
    "b = a * 3\n",
    "print(b)\n",
    "\n",
    "a = ['a', 'b']\n",
    "b = ['c', 'd']\n",
    "c = a * b\n",
    "print(c)"
   ]
  },
  {
   "cell_type": "code",
   "execution_count": 24,
   "metadata": {},
   "outputs": [
    {
     "name": "stdout",
     "output_type": "stream",
     "text": [
      "True\n",
      "False\n"
     ]
    }
   ],
   "source": [
    "# 成员资格运算\n",
    "# 判断元素是否在list里边\n",
    "a = [1, 2, 3, 5, 7]\n",
    "\n",
    "b = 5\n",
    "# c的值是一个布尔值\n",
    "c = b in a\n",
    "print(c)\n",
    "\n",
    "b = 4\n",
    "print(b in a)"
   ]
  },
  {
   "cell_type": "code",
   "execution_count": 25,
   "metadata": {},
   "outputs": [
    {
     "name": "stdout",
     "output_type": "stream",
     "text": [
      "False\n",
      "True\n"
     ]
    }
   ],
   "source": [
    "# not in \n",
    "a = [1, 2, 3, 5, 7]\n",
    "\n",
    "b = 5\n",
    "# c的值是一个布尔值\n",
    "c = b not in a\n",
    "print(c)\n",
    "\n",
    "b = 4\n",
    "print(b not in a)"
   ]
  },
  {
   "cell_type": "markdown",
   "metadata": {},
   "source": [
    "# 链表的遍历\n",
    "- for\n",
    "- while"
   ]
  },
  {
   "cell_type": "code",
   "execution_count": 5,
   "metadata": {},
   "outputs": [
    {
     "name": "stdout",
     "output_type": "stream",
     "text": [
      "1\n",
      "2\n",
      "3\n",
      "5\n",
      "7\n"
     ]
    }
   ],
   "source": [
    "# for in list\n",
    "a = [1, 2, 3, 5, 7]\n",
    "\n",
    "# 挨个打印a里面的元素\n",
    "for i in a:\n",
    "    print(i)"
   ]
  },
  {
   "cell_type": "code",
   "execution_count": 6,
   "metadata": {},
   "outputs": [
    {
     "name": "stdout",
     "output_type": "stream",
     "text": [
      "1\n",
      "2\n",
      "3\n",
      "5\n",
      "7\n"
     ]
    }
   ],
   "source": [
    "# java, c++程序员写的python代码:\n",
    "for i in range(0,len(a)):\n",
    "    print(a[i])\n",
    "    i += 1"
   ]
  },
  {
   "cell_type": "code",
   "execution_count": 27,
   "metadata": {},
   "outputs": [
    {
     "name": "stdout",
     "output_type": "stream",
     "text": [
      "I love bingbing\n"
     ]
    }
   ],
   "source": [
    "b = [\"I love bingbing\"]\n",
    "\n",
    "for i in b:\n",
    "    print(i)"
   ]
  },
  {
   "cell_type": "code",
   "execution_count": 30,
   "metadata": {},
   "outputs": [
    {
     "name": "stdout",
     "output_type": "stream",
     "text": [
      "1\n",
      "2\n",
      "3\n",
      "4\n",
      "5\n",
      "6\n",
      "7\n",
      "8\n",
      "9\n",
      "<class 'range'>\n",
      "<class 'range'>\n"
     ]
    }
   ],
   "source": [
    "# range\n",
    "# in后面的变量要求是可迭代的内容\n",
    "for i in range(1,10):\n",
    "    print(i)\n",
    "    \n",
    "print(type(range(1,10)))\n",
    "\n",
    "a = range(1,10)\n",
    "print(type(a))"
   ]
  },
  {
   "cell_type": "code",
   "execution_count": 2,
   "metadata": {},
   "outputs": [
    {
     "name": "stdout",
     "output_type": "stream",
     "text": [
      "1\n",
      "2\n",
      "3\n",
      "5\n",
      "7\n"
     ]
    }
   ],
   "source": [
    "# while循环访问list\n",
    "# 一般不用while遍历list\n",
    "a = [1, 2, 3, 5, 7]\n",
    "length = len(a)\n",
    "\n",
    "# idx表示list的下标\n",
    "idx = 0\n",
    "while idx < length:\n",
    "    print(a[idx])\n",
    "    idx += 1"
   ]
  },
  {
   "cell_type": "code",
   "execution_count": 8,
   "metadata": {},
   "outputs": [
    {
     "name": "stdout",
     "output_type": "stream",
     "text": [
      "one === 1\n",
      "two === 2\n",
      "three === 3\n"
     ]
    }
   ],
   "source": [
    "# 双层列表循环\n",
    "\n",
    "# a 为嵌套列表, 或者叫双层列表\n",
    "a = [[\"one\", 1], [\"two\", 2], [\"three\", 3]]\n",
    "\n",
    "for k, v in a:\n",
    "    print(k, \"===\", v)"
   ]
  },
  {
   "cell_type": "code",
   "execution_count": 10,
   "metadata": {},
   "outputs": [
    {
     "name": "stdout",
     "output_type": "stream",
     "text": [
      "one === 1\n",
      "two === 2\n",
      "three === 3\n"
     ]
    },
    {
     "ename": "ValueError",
     "evalue": "not enough values to unpack (expected 2, got 1)",
     "output_type": "error",
     "traceback": [
      "\u001b[1;31m---------------------------------------------------------------------------\u001b[0m",
      "\u001b[1;31mValueError\u001b[0m                                Traceback (most recent call last)",
      "\u001b[1;32m<ipython-input-10-2704660154b8>\u001b[0m in \u001b[0;36m<module>\u001b[1;34m()\u001b[0m\n\u001b[0;32m      4\u001b[0m \u001b[0ma\u001b[0m \u001b[1;33m=\u001b[0m \u001b[1;33m[\u001b[0m\u001b[1;33m[\u001b[0m\u001b[1;34m\"one\"\u001b[0m\u001b[1;33m,\u001b[0m \u001b[1;36m1\u001b[0m\u001b[1;33m]\u001b[0m\u001b[1;33m,\u001b[0m \u001b[1;33m[\u001b[0m\u001b[1;34m\"two\"\u001b[0m\u001b[1;33m,\u001b[0m \u001b[1;36m2\u001b[0m\u001b[1;33m]\u001b[0m\u001b[1;33m,\u001b[0m \u001b[1;33m[\u001b[0m\u001b[1;34m\"three\"\u001b[0m\u001b[1;33m,\u001b[0m \u001b[1;36m3\u001b[0m\u001b[1;33m]\u001b[0m\u001b[1;33m,\u001b[0m \u001b[1;33m[\u001b[0m\u001b[1;36m4\u001b[0m\u001b[1;33m]\u001b[0m\u001b[1;33m,\u001b[0m \u001b[1;33m[\u001b[0m\u001b[1;36m5\u001b[0m\u001b[1;33m]\u001b[0m\u001b[1;33m]\u001b[0m\u001b[1;33m\u001b[0m\u001b[0m\n\u001b[0;32m      5\u001b[0m \u001b[1;33m\u001b[0m\u001b[0m\n\u001b[1;32m----> 6\u001b[1;33m \u001b[1;32mfor\u001b[0m \u001b[0mk\u001b[0m\u001b[1;33m,\u001b[0m \u001b[0mv\u001b[0m \u001b[1;32min\u001b[0m \u001b[0ma\u001b[0m\u001b[1;33m:\u001b[0m\u001b[1;33m\u001b[0m\u001b[0m\n\u001b[0m\u001b[0;32m      7\u001b[0m     \u001b[0mprint\u001b[0m\u001b[1;33m(\u001b[0m\u001b[0mk\u001b[0m\u001b[1;33m,\u001b[0m \u001b[1;34m\"===\"\u001b[0m\u001b[1;33m,\u001b[0m \u001b[0mv\u001b[0m\u001b[1;33m)\u001b[0m\u001b[1;33m\u001b[0m\u001b[0m\n",
      "\u001b[1;31mValueError\u001b[0m: not enough values to unpack (expected 2, got 1)"
     ]
    }
   ],
   "source": [
    "# 双层列表循环变异\n",
    "\n",
    "# a 为嵌套列表, 或者叫双层列表\n",
    "a = [[\"one\", 1], [\"two\", 2], [\"three\", 3], [4], [5]]\n",
    "\n",
    "for k, v in a:\n",
    "    print(k, \"===\", v)"
   ]
  },
  {
   "cell_type": "code",
   "execution_count": 11,
   "metadata": {},
   "outputs": [
    {
     "name": "stdout",
     "output_type": "stream",
     "text": [
      "one === 1 === 一\n",
      "two === 2 === 二\n",
      "three === 3 === 三\n"
     ]
    }
   ],
   "source": [
    "# 双层列表循环变异\n",
    "\n",
    "# a 为嵌套列表, 或者叫双层列表\n",
    "a = [[\"one\", 1, \"一\"], [\"two\", 2, \"二\"], [\"three\", 3, \"三\"]]\n",
    "# k, v, w的个数应该和解包出来的变量个数一致\n",
    "for k, v, w in a:\n",
    "    print(k, \"===\", v, \"===\", w)"
   ]
  },
  {
   "cell_type": "markdown",
   "metadata": {},
   "source": [
    "# 列表内涵: list content\n",
    "- 通过简单方法创作列表"
   ]
  },
  {
   "cell_type": "code",
   "execution_count": 12,
   "metadata": {},
   "outputs": [
    {
     "name": "stdout",
     "output_type": "stream",
     "text": [
      "['a', 'b', 'c']\n"
     ]
    }
   ],
   "source": [
    "# for 创建\n",
    "a = ['a', 'b', 'c']\n",
    "# 用list a创建一个list b\n",
    "# 下面代码的含义是: 对于所有a中的元素, 逐个放入新列表b中\n",
    "b = [i for i in a]\n",
    "print(b)"
   ]
  },
  {
   "cell_type": "code",
   "execution_count": 14,
   "metadata": {},
   "outputs": [
    {
     "name": "stdout",
     "output_type": "stream",
     "text": [
      "[10, 20, 30, 40, 50]\n"
     ]
    }
   ],
   "source": [
    "# 对a中所有元素乘以10, 生成一个新list\n",
    "a = [1, 2, 3, 4, 5]\n",
    "# 用list a创建一个list b\n",
    "# 下面代码的含义是: 对于所有a中的元素, 逐个放入新列表b中\n",
    "b = [i * 10 for i in a]\n",
    "print(b)"
   ]
  },
  {
   "cell_type": "code",
   "execution_count": 16,
   "metadata": {},
   "outputs": [
    {
     "name": "stdout",
     "output_type": "stream",
     "text": [
      "[2, 4, 6, 8, 10, 12, 14, 16, 18, 20, 22, 24, 26, 28, 30, 32, 34, 36, 38]\n"
     ]
    }
   ],
   "source": [
    "# 还可以过滤原来list中的内容并放入新列表\n",
    "# 比如原有列表a, 需要把所有a中的偶数生成新的列表b\n",
    "a = [x for x in range(1, 40)]\n",
    "# 用list a创建一个list b\n",
    "# 下面代码的含义是: 对于所有a中的元素, 逐个放入新列表b中\n",
    "b = [i for i in a if i % 2 == 0]\n",
    "print(b)"
   ]
  },
  {
   "cell_type": "code",
   "execution_count": 28,
   "metadata": {},
   "outputs": [
    {
     "name": "stdout",
     "output_type": "stream",
     "text": [
      "[1, 2, 3] [100, 300]\n",
      "[101, 301, 102, 302, 103, 303]\n",
      "101   301   102   302   103   303   [101, 102, 103]\n"
     ]
    }
   ],
   "source": [
    "# 列表生成式可以嵌套\n",
    "# 有两个列表a, b\n",
    "a = [i for i in range(1,4)]\n",
    "b = [i * 100 for i in a if i % 2 == 1]\n",
    "print(a, b)\n",
    "\n",
    "# 开始嵌套, 此时等于两个for循环嵌套\n",
    "c = [m + n for m in a for n in b]\n",
    "print(c)\n",
    "\n",
    "# 上面代码跟下面代码等价\n",
    "for m in a:\n",
    "    for n in b:\n",
    "        print(m+n, end = \"   \")\n",
    "        \n",
    "# 嵌套列表生成式也可以用条件表达式\n",
    "c = [m + n for m in a for n in b if m + n < 200]\n",
    "print(c)"
   ]
  },
  {
   "cell_type": "markdown",
   "metadata": {},
   "source": [
    "# 关于列表的常用函数"
   ]
  },
  {
   "cell_type": "code",
   "execution_count": 33,
   "metadata": {},
   "outputs": [
    {
     "name": "stdout",
     "output_type": "stream",
     "text": [
      "99\n",
      "99\n",
      "python\n",
      "1\n",
      "file\n"
     ]
    }
   ],
   "source": [
    "# len: 求列表长度\n",
    "a = [i for i in range(1,100)]\n",
    "print(len(a))\n",
    "\n",
    "# max: 求列表中最大值\n",
    "# min: 求列表中最小值\n",
    "print(max(a))\n",
    "\n",
    "b = [\"man\", \"file\", \"python\"]\n",
    "print(max(b))\n",
    "\n",
    "\n",
    "print(min(a))\n",
    "print(min(b))"
   ]
  },
  {
   "cell_type": "code",
   "execution_count": 47,
   "metadata": {},
   "outputs": [
    {
     "name": "stdout",
     "output_type": "stream",
     "text": [
      "['M', 'y', ' ', 'n', 'a', 'm', 'e', ' ', 'i', 's', ' ', 'd', 'i', 'u', 'd', 'i', 'u', 'd', 'i', 'u']\n",
      "['e', 'n', 'm', 'u', 'M', ' ', 'i', 'd', 'a', 's', 'y']\n",
      "[' ', 'M', 'a', 'd', 'e', 'i', 'm', 'n', 's', 'u', 'y']\n"
     ]
    }
   ],
   "source": [
    "# list函数: 将其他格式的数据转换成list\n",
    "a = \"My name is diudiudiu\"\n",
    "b = list(a)\n",
    "print(b)\n",
    "\n",
    "b = list(set(b))\n",
    "print(b)\n",
    "b.sort()\n",
    "print(b)"
   ]
  },
  {
   "cell_type": "code",
   "execution_count": null,
   "metadata": {},
   "outputs": [],
   "source": []
  },
  {
   "cell_type": "code",
   "execution_count": null,
   "metadata": {},
   "outputs": [],
   "source": []
  },
  {
   "cell_type": "code",
   "execution_count": null,
   "metadata": {},
   "outputs": [],
   "source": []
  },
  {
   "cell_type": "code",
   "execution_count": null,
   "metadata": {},
   "outputs": [],
   "source": []
  },
  {
   "cell_type": "code",
   "execution_count": null,
   "metadata": {},
   "outputs": [],
   "source": []
  }
 ],
 "metadata": {
  "kernelspec": {
   "display_name": "Python 3",
   "language": "python",
   "name": "python3"
  },
  "language_info": {
   "codemirror_mode": {
    "name": "ipython",
    "version": 3
   },
   "file_extension": ".py",
   "mimetype": "text/x-python",
   "name": "python",
   "nbconvert_exporter": "python",
   "pygments_lexer": "ipython3",
   "version": "3.6.5"
  }
 },
 "nbformat": 4,
 "nbformat_minor": 2
}
