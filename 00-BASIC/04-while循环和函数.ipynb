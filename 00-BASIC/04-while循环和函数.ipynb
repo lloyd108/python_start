{
 "cells": [
  {
   "cell_type": "markdown",
   "metadata": {},
   "source": [
    "# while循环\n",
    "- 一个循环语句\n",
    "- 表示当某条件成立的时候,就循环\n",
    "- 不知道具体循环次数,但能确定循环的成立条件的时候用while循环\n",
    "- while语法:\n",
    "        \n",
    "        while 条件表达式(True):\n",
    "            语句块\n",
    "        # 另外一种表达方法\n",
    "        while 条件表达式(True):\n",
    "            语句块1\n",
    "        else(False):\n",
    "            语句块2(只执行一次)"
   ]
  },
  {
   "cell_type": "code",
   "execution_count": 3,
   "metadata": {},
   "outputs": [
    {
     "name": "stdout",
     "output_type": "stream",
     "text": [
      "请输入本金:66\n",
      "原始金额为33,11年后变为134.69533328159855\n"
     ]
    }
   ],
   "source": [
    "# 如果说年利率是6.7%,则多少年后本钱会翻倍\n",
    "\n",
    "principal = int(input(\"请输入本金:\"))\n",
    "final = principal\n",
    "year = 0\n",
    "while final < principal * 2:\n",
    "    final = final * (0.067 + 1)\n",
    "    year = year + 1\n",
    "print(\"原始金额为{2},{0}年后变为{1}\".format(year,final,principal))"
   ]
  },
  {
   "cell_type": "code",
   "execution_count": 11,
   "metadata": {},
   "outputs": [
    {
     "name": "stdout",
     "output_type": "stream",
     "text": [
      "请输入本金:35\n",
      "原始金额为35,1年后变为37.345\n",
      "原始金额为35,2年后变为39.847114999999995\n",
      "原始金额为35,3年后变为42.51687170499999\n",
      "原始金额为35,4年后变为45.36550210923499\n",
      "原始金额为35,5年后变为48.40499075055373\n",
      "原始金额为35,6年后变为51.648125130840825\n",
      "原始金额为35,7年后变为55.108549514607155\n",
      "原始金额为35,8年后变为58.80082233208583\n",
      "原始金额为35,9年后变为62.74047742833557\n",
      "原始金额为35,10年后变为66.94408941603406\n",
      "原始金额为35,11年后变为71.42934340690834\n",
      "结束啦!!\n",
      "扯淡呢...\n"
     ]
    }
   ],
   "source": [
    "# 如果说年利率是6.7%,则多少年后本钱会翻倍\n",
    "# 如果拿到的钱翻倍,则用庆祝一下\n",
    "\n",
    "principal = int(input(\"请输入本金:\"))\n",
    "final = principal\n",
    "year = 0\n",
    "while final < principal * 2:\n",
    "    final = final * (0.067 + 1)\n",
    "    year = year + 1\n",
    "    print(\"原始金额为{2},{0}年后变为{1}\".format(year,final,principal))\n",
    "else:\n",
    "    print(\"结束啦!!\")\n",
    "print(\"扯淡呢...\")"
   ]
  },
  {
   "cell_type": "markdown",
   "metadata": {},
   "source": [
    "# 函数:\n",
    "- 代码的一种组织形式\n",
    "- 一个函数一般完成一项特定的功能\n",
    "- 函数使用\n",
    "    - 函数需要先定义\n",
    "    - 使用函数,俗称调用"
   ]
  },
  {
   "cell_type": "code",
   "execution_count": 12,
   "metadata": {},
   "outputs": [
    {
     "name": "stdout",
     "output_type": "stream",
     "text": [
      "我是一个函数\n",
      "我要完成一定功能\n",
      "我结束了\n"
     ]
    }
   ],
   "source": [
    "# 定义一个函数\n",
    "# 只是定义的话不会执行\n",
    "# 1. def关键字,后跟一个空格\n",
    "# 2. 函数名,自己定义,起名需要遵循命名规则,约定俗成,大驼峰命名只给类用\n",
    "# 3. 后面括号和冒号不能省,括号内可以有参数\n",
    "# 4. 函数内所有代码缩进\n",
    "\n",
    "def func():\n",
    "    print(\"我是一个函数\")\n",
    "    print(\"我要完成一定功能\")\n",
    "    print(\"我结束了\")\n",
    "\n",
    "    \n",
    "# 函数的调用\n",
    "#直接函数名后面跟括号\n",
    "func()"
   ]
  },
  {
   "cell_type": "markdown",
   "metadata": {},
   "source": [
    "## 函数的参数和返回值\n",
    "- 参数: 负责给函数传递一些必要的数据或者信息\n",
    "    - 形参(形式参数): 在函数定义的时候用到的参数,没有具体值,只是一个占位的符号\n",
    "    - 实参(实际参数): 在调用函数的时候输入的值\n",
    "- 返回值: 函数的执行结果\n",
    "    - 使用return关键字\n",
    "    - 如果没有return,默认返回None\n",
    "    - 函数一旦执行return语句,则无条件返回,即结束函数的执行"
   ]
  },
  {
   "cell_type": "code",
   "execution_count": 17,
   "metadata": {
    "scrolled": true
   },
   "outputs": [
    {
     "name": "stdout",
     "output_type": "stream",
     "text": [
      "小明,你怎么咧\n",
      "呵呵哒\n"
     ]
    }
   ],
   "source": [
    "# 参数的定义和使用\n",
    "# 参数obj只是一个符号,代表的是调用的时候的某一个数据\n",
    "# 调用的时候,会用name的值代替函数中所有的obj\n",
    "# obj形参,name实参\n",
    "\n",
    "def hello(obj):\n",
    "    print(\"{0},你怎么咧\".format(obj))\n",
    "    print(\"呵呵哒\")\n",
    "\n",
    "    \n",
    "name = \"小明\"\n",
    "hello(name)"
   ]
  },
  {
   "cell_type": "code",
   "execution_count": 20,
   "metadata": {},
   "outputs": [
    {
     "name": "stdout",
     "output_type": "stream",
     "text": [
      "小明,你怎么咧\n",
      "呵呵哒\n",
      "你咋不理我啊小明,我是小明\n"
     ]
    }
   ],
   "source": [
    "# return语句的基本使用\n",
    "# 函数打完招呼后返回一句话\n",
    "\n",
    "def hello(obj):\n",
    "    print(\"{0},你怎么咧\".format(obj))\n",
    "    print(\"呵呵哒\")\n",
    "    \n",
    "    return \"你咋不理我啊{0},我是{1}\".format(obj,obj)\n",
    "    \n",
    "name = \"小明\"\n",
    "result = hello(name)\n",
    "print(result)"
   ]
  },
  {
   "cell_type": "code",
   "execution_count": 38,
   "metadata": {},
   "outputs": [
    {
     "name": "stdout",
     "output_type": "stream",
     "text": [
      "1 \n",
      "\n",
      "2 4 \n",
      "\n",
      "3 6 9 \n",
      "\n",
      "4 8 12 16 \n",
      "\n",
      "5 10 15 20 \n",
      "\n"
     ]
    }
   ],
   "source": [
    "# 九九乘法表\n",
    "def magicMul(n,m):\n",
    "    for i in range(1,n+1):\n",
    "        for j in range(1,m+1):\n",
    "            if j <= i:\n",
    "                print(\"{0}\".format(i*j), end = ' ')\n",
    "        print(\"\\n\")\n",
    "\n",
    "magicMul(5,4)"
   ]
  },
  {
   "cell_type": "code",
   "execution_count": 35,
   "metadata": {},
   "outputs": [
    {
     "name": "stdout",
     "output_type": "stream",
     "text": [
      "Help on built-in function print in module builtins:\n",
      "\n",
      "print(...)\n",
      "    print(value, ..., sep=' ', end='\\n', file=sys.stdout, flush=False)\n",
      "    \n",
      "    Prints the values to a stream, or to sys.stdout by default.\n",
      "    Optional keyword arguments:\n",
      "    file:  a file-like object (stream); defaults to the current sys.stdout.\n",
      "    sep:   string inserted between values, default a space.\n",
      "    end:   string appended after the last value, default a newline.\n",
      "    flush: whether to forcibly flush the stream.\n",
      "\n"
     ]
    }
   ],
   "source": [
    "# 查找函数帮助文档\n",
    "# 1. 用help函数\n",
    "help(print)"
   ]
  },
  {
   "cell_type": "code",
   "execution_count": 37,
   "metadata": {},
   "outputs": [
    {
     "name": "stdout",
     "output_type": "stream",
     "text": [
      "1 \n",
      "\n",
      "2 4 \n",
      "\n",
      "3 6 9 \n",
      "\n",
      "4 8 12 16 \n",
      "\n",
      "5 10 15 20 25 \n",
      "\n"
     ]
    }
   ],
   "source": [
    "# 九九乘法表\n",
    "def magicMul(n):\n",
    "    for i in range(1,n+1):\n",
    "        for j in range(1,i+1):\n",
    "            if j <= i:\n",
    "                print(\"{0}\".format(i*j), end = ' ')\n",
    "        print(\"\\n\")\n",
    "\n",
    "magicMul(5)"
   ]
  },
  {
   "cell_type": "markdown",
   "metadata": {},
   "source": [
    "## 参数详解\n",
    "- [参考资料](https://www.cnblogs.com/bingabcd/p/6671368.html)\n",
    "- python参考资料: headfirst python -> 零基础入门学习python(小甲鱼),流畅的python -> 习题 -> 后期可以考虑腾讯公开免费课\n",
    "- 参数分类\n",
    "    - 普通参数\n",
    "    - 默认参数\n",
    "    - 关键字参数\n",
    "    - 收集参数\n",
    "\n",
    "- 普通参数\n",
    "    - 参见乘法表例\n",
    "    - 定义的时候直接定义变量名\n",
    "    - 调用的时候直接把变量或者值放入指定位置\n",
    "    \n",
    "            def 函数名(参数1, 参数2, ....):\n",
    "                函数体\n",
    "                \n",
    "            # 调用\n",
    "            函数名(value1, value2, ....)\n",
    "            \n",
    "            # 调用的时候, 具体值参考的是位置, 按位置赋值\n",
    "\n",
    "- 默认参数\n",
    "    - 形参带有默认值\n",
    "    - 调用的时候, 如果没有对相应形参赋值, 则使用默认值\n",
    "    \n",
    "            def func_name(p1 = v1, p2 = v2, ....):\n",
    "                func_block\n",
    "                \n",
    "            # 调用1\n",
    "            func_name()\n",
    "            \n",
    "            # 调用2\n",
    "            value1 = 100\n",
    "            value2 = 200\n",
    "            func_name(value1,value2)"
   ]
  },
  {
   "cell_type": "code",
   "execution_count": 2,
   "metadata": {},
   "outputs": [
    {
     "name": "stdout",
     "output_type": "stream",
     "text": [
      "恭喜小明,您的年龄为19,性别为male,奖励10元,已成功注册!\n",
      "恭喜小红,您的年龄为29,性别为female,奖励100元,已成功注册!\n"
     ]
    }
   ],
   "source": [
    "# 默认参数示例\n",
    "#注册信息,性别默认为男\n",
    "def reg(name, age, gender = \"male\"):\n",
    "    if gender == \"male\":\n",
    "        print(\"恭喜{0},您的年龄为{1},性别为{2},奖励10元,已成功注册!\".format(name,age,gender))\n",
    "    else:\n",
    "        print(\"恭喜{0},您的年龄为{1},性别为{2},奖励100元,已成功注册!\".format(name,age,gender))\n",
    "\n",
    "        \n",
    "reg(\"小明\",19)\n",
    "reg(\"小红\",29,\"female\")"
   ]
  },
  {
   "cell_type": "code",
   "execution_count": null,
   "metadata": {},
   "outputs": [],
   "source": []
  }
 ],
 "metadata": {
  "kernelspec": {
   "display_name": "Python 3",
   "language": "python",
   "name": "python3"
  },
  "language_info": {
   "codemirror_mode": {
    "name": "ipython",
    "version": 3
   },
   "file_extension": ".py",
   "mimetype": "text/x-python",
   "name": "python",
   "nbconvert_exporter": "python",
   "pygments_lexer": "ipython3",
   "version": "3.6.5"
  }
 },
 "nbformat": 4,
 "nbformat_minor": 2
}
