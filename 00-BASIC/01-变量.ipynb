{
 "cells": [
  {
   "cell_type": "markdown",
   "metadata": {},
   "source": [
    "## 变量类型\n",
    "- 严格意义上讲,python只有一个类型\n",
    "- 标准数据一共六种\n",
    "   - 数字类型 number\n",
    "   - 字符串类型 str\n",
    "   - 列表 list\n",
    "   - 元组 tuple\n",
    "   - 字典 dictionary\n",
    "   - 集合 set"
   ]
  },
  {
   "cell_type": "markdown",
   "metadata": {},
   "source": [
    "## Number数字类型\n",
    "- 数字类型没有大小限制\n",
    "### 整数\n",
    "- 没有小数部分,表示个数的数字\n",
    "- 自然数,0,负自然数\n",
    "- 整数分进制\n",
    "    - 二进制\n",
    "        - 计算机常用\n",
    "        - 是计算机唯一能直接理解的数字\n",
    "        - 表示为0b开头的0,1代码\n",
    "        - 例如 0b01101, 0b10001\n",
    "    - 八进制\n",
    "        - 不常用\n",
    "        - 0o开头的包含0-7的数字\n",
    "    - 十六进制\n",
    "        - 逢16进1\n",
    "        - 其实是每四位二进制表示一位十六进制数\n",
    "        - 包含0-9, a-f\n",
    "        - 数字上以0x开头表示\n",
    "    - 十进制\n",
    "        - 18, 89, 178"
   ]
  },
  {
   "cell_type": "code",
   "execution_count": 11,
   "metadata": {
    "scrolled": true
   },
   "outputs": [
    {
     "name": "stdout",
     "output_type": "stream",
     "text": [
      "18\n",
      "18\n",
      "18\n",
      "18\n"
     ]
    }
   ],
   "source": [
    "age = 18\n",
    "print(age)\n",
    "\n",
    "age = 0b10010\n",
    "print(age)\n",
    "\n",
    "age = 0o22\n",
    "print(age)\n",
    "\n",
    "age = 0x12 #十六进制12表示二进制的0001 0010\n",
    "print(age)"
   ]
  },
  {
   "cell_type": "markdown",
   "metadata": {},
   "source": [
    "### 浮点数\n",
    "- 小数\n",
    "- 计算机立面表示浮点数可以有条件省略\n",
    "- 3.1415\n",
    "- 3.0, 3.\n",
    "- 0.5, .5\n",
    "- 科学计数法\n",
    "    - 定义跟数学定义一致\n",
    "    - 写法是用e/E后面跟整数表示10的指数\n",
    "    - 176.34 == 1.7634e2\n",
    "    - 0.876 == 8.76e-1"
   ]
  },
  {
   "cell_type": "code",
   "execution_count": 14,
   "metadata": {},
   "outputs": [
    {
     "name": "stdout",
     "output_type": "stream",
     "text": [
      "175.22\n",
      "0.2\n",
      "0.9\n"
     ]
    }
   ],
   "source": [
    "height = 175.22\n",
    "print(height)\n",
    "\n",
    "shili = 0.2\n",
    "print(shili)\n",
    "\n",
    "shili = .9\n",
    "print(shili)"
   ]
  },
  {
   "cell_type": "markdown",
   "metadata": {},
   "source": [
    "### 复数complex\n",
    "- 定义同数学定义一致\n",
    "- 一个由实部和虚部构成的数字\n",
    "- 虚部用j/J表示\n",
    "- 5+3j\n",
    "- 3j\n",
    "- (3j)"
   ]
  },
  {
   "cell_type": "markdown",
   "metadata": {},
   "source": [
    "### 布尔值\n",
    "- 表示真假的值\n",
    "- 只有两个值, True/False\n",
    "- 布尔值可以跟数字直接操作"
   ]
  },
  {
   "cell_type": "code",
   "execution_count": 16,
   "metadata": {},
   "outputs": [
    {
     "name": "stdout",
     "output_type": "stream",
     "text": [
      "19\n"
     ]
    }
   ],
   "source": [
    "#布尔值操作\n",
    "age = 18 + True\n",
    "print(age)"
   ]
  },
  {
   "cell_type": "markdown",
   "metadata": {},
   "source": [
    "## 字符串\n",
    "- 用来表示一串文字信息\n",
    "- 如何表示\n",
    "    - 单引号\n",
    "    - 双引号\n",
    "    - 三引号(三个单引号或者三个双引号)\n",
    "        - 能够扩起多行信息\n",
    "- 单双引号交错使用"
   ]
  },
  {
   "cell_type": "code",
   "execution_count": 20,
   "metadata": {},
   "outputs": [
    {
     "name": "stdout",
     "output_type": "stream",
     "text": [
      "I love zhoufangbing\n",
      "我爱周方冰\n",
      "         .*★*.\n",
      ".*★ *.* 　　 ★\n",
      "★　　　　　  * \n",
      "★           .’\n",
      "‘*.　　　  .\n",
      "    `  .  . \n",
      "<a style=\"color:red\"> 哈哈哈 </a>\n",
      "<a style=\"color:red\"> 哈哈哈 </a>\n"
     ]
    }
   ],
   "source": [
    "love = \"I love zhoufangbing\"\n",
    "print(love)\n",
    "\n",
    "love = '我爱周方冰'\n",
    "print(love)\n",
    "\n",
    "love = '''         .*★*.\n",
    ".*★ *.* 　　 ★\n",
    "★　　　　　  * \n",
    "★           .’\n",
    "‘*.　　　  .\n",
    "    `  .  . '''\n",
    "print(love)\n",
    "\n",
    "# 单双引号交错使用的例子\n",
    "# <a style=\"color:red\"> 哈哈哈 </a>\n",
    "# 用引号表示上面字符串\n",
    "html = '<a style=\"color:red\"> 哈哈哈 </a>'\n",
    "print(html)\n",
    "html = '''<a style=\"color:red\"> 哈哈哈 </a>'''\n",
    "print(html)"
   ]
  },
  {
   "cell_type": "code",
   "execution_count": null,
   "metadata": {},
   "outputs": [],
   "source": []
  }
 ],
 "metadata": {
  "celltoolbar": "Raw Cell Format",
  "kernelspec": {
   "display_name": "Python 3",
   "language": "python",
   "name": "python3"
  },
  "language_info": {
   "codemirror_mode": {
    "name": "ipython",
    "version": 3
   },
   "file_extension": ".py",
   "mimetype": "text/x-python",
   "name": "python",
   "nbconvert_exporter": "python",
   "pygments_lexer": "ipython3",
   "version": "3.6.5"
  }
 },
 "nbformat": 4,
 "nbformat_minor": 2
}
