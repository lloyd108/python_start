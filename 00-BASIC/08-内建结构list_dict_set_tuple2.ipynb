{
 "cells": [
  {
   "cell_type": "code",
   "execution_count": 1,
   "metadata": {},
   "outputs": [
    {
     "name": "stdout",
     "output_type": "stream",
     "text": [
      "[1, 2, 3, 4, 5]\n",
      "[1, 2, 300, 4, 5]\n",
      "[1, 2, 300, 4, 5]\n",
      "6\n",
      "106\n",
      "6\n"
     ]
    }
   ],
   "source": [
    "# 传值和传引用(传址)的区别\n",
    "# 对于简单的数值, 采用传值操作, 即在函数内对参数的操作不影响外面的变量\n",
    "# 对于复杂变量, 采用传地址操作, 此时函数内的参数和外部变量是同一份内容, 任何地方对此内容的更改都影响另外的变量或参数的使用\n",
    "\n",
    "\n",
    "def a(n):\n",
    "    n[2] = 300\n",
    "    print(n)\n",
    "    return None\n",
    "\n",
    "def b(n):\n",
    "    n += 100\n",
    "    print(n)\n",
    "    return None\n",
    "\n",
    "an = [1,2,3,4,5]\n",
    "bn = 6\n",
    "\n",
    "print(an)\n",
    "a(an)\n",
    "print(an)\n",
    "\n",
    "print(bn)\n",
    "b(bn)\n",
    "print(bn)"
   ]
  },
  {
   "cell_type": "markdown",
   "metadata": {},
   "source": [
    "# 关于列表的函数"
   ]
  },
  {
   "cell_type": "code",
   "execution_count": 42,
   "metadata": {},
   "outputs": [
    {
     "name": "stdout",
     "output_type": "stream",
     "text": [
      "['a', 'I love ZFB', 45, 2255, (4+5j)]\n",
      "['a', 'I love ZFB', 45, 2255, (4+5j), 'c']\n"
     ]
    }
   ],
   "source": [
    "l = ['a', \"I love ZFB\", 45, 2255, 4+5j]\n",
    "print(l)\n",
    "\n",
    "# 在列表末尾插入\n",
    "l.append(\"c\")\n",
    "print(l)"
   ]
  },
  {
   "cell_type": "code",
   "execution_count": 21,
   "metadata": {},
   "outputs": [
    {
     "name": "stdout",
     "output_type": "stream",
     "text": [
      "['a', 'I love ZFB', 45, 2255, (4+5j), 'c']\n",
      "['a', 'I love ZFB', 45, 'a', 2255, (4+5j), 'c']\n"
     ]
    }
   ],
   "source": [
    "# 在列表指定位置插入\n",
    "# insert(index, data), 插入位置是index的前面\n",
    "# 一般不用\n",
    "print(l)\n",
    "l.insert(3,\"a\")\n",
    "print(l)"
   ]
  },
  {
   "cell_type": "code",
   "execution_count": 22,
   "metadata": {},
   "outputs": [
    {
     "name": "stdout",
     "output_type": "stream",
     "text": [
      "['a', 'I love ZFB', 45, 'a', 2255, (4+5j), 'c']\n",
      "['a', 'I love ZFB', 45, 'a', 2255, (4+5j)]\n"
     ]
    }
   ],
   "source": [
    "# 删除列表指定位置元素\n",
    "# del\n",
    "print(l)\n",
    "del(l[len(l)-1])\n",
    "print(l)"
   ]
  },
  {
   "cell_type": "code",
   "execution_count": 23,
   "metadata": {},
   "outputs": [
    {
     "name": "stdout",
     "output_type": "stream",
     "text": [
      "['a', 'I love ZFB', 45, 'a', 2255, (4+5j)]\n",
      "['a', 'I love ZFB', 45, 'a', 2255]\n",
      "(4+5j)\n"
     ]
    }
   ],
   "source": [
    "# pop, 从队尾拿出一个元素, 即把最后一个元素取出来(栈)\n",
    "print(l)\n",
    "last_ele = l.pop()\n",
    "print(l)\n",
    "print(last_ele)"
   ]
  },
  {
   "cell_type": "code",
   "execution_count": 35,
   "metadata": {},
   "outputs": [
    {
     "name": "stdout",
     "output_type": "stream",
     "text": [
      "2169959087304\n",
      "2169959087304\n",
      "2169959087304\n",
      "[45, 45]\n",
      "2169959087304\n",
      "[45]\n"
     ]
    }
   ],
   "source": [
    "# remove: 在列表中删除指定的值得元素\n",
    "# 如果被删除的值没在list中, 则报错\n",
    "# 即, 删除list指定值的操作应该使用try...except语句, 或者先行进行判断\n",
    "# if x in list:\n",
    "#     list.remove(x)\n",
    "print(id(l))\n",
    "l.append(45)\n",
    "print(id(l))\n",
    "l.insert(19,45)\n",
    "print(id(l))\n",
    "print(l)\n",
    "l.remove(45)\n",
    "print(id(l))\n",
    "print(l)\n",
    "\n",
    "# 输出id值一样,说明, 各种操作是在原list直接操作"
   ]
  },
  {
   "cell_type": "code",
   "execution_count": 40,
   "metadata": {},
   "outputs": [
    {
     "name": "stdout",
     "output_type": "stream",
     "text": [
      "['a', 'I love ZFB', 45, 2255, (4+5j), 'c']\n",
      "2169957698760\n",
      "[]\n",
      "2169957698760\n"
     ]
    }
   ],
   "source": [
    "# clear: 清空\n",
    "print(l)\n",
    "print(id(l))\n",
    "l.clear()\n",
    "print(l)\n",
    "print(id(l))\n",
    "\n",
    "# 清空列表, 但是列表地址已修改\n",
    "# l = list()\n",
    "# l = []"
   ]
  },
  {
   "cell_type": "code",
   "execution_count": 43,
   "metadata": {},
   "outputs": [
    {
     "name": "stdout",
     "output_type": "stream",
     "text": [
      "['a', 'I love ZFB', 45, 2255, (4+5j), 'c']\n",
      "2169959203208\n"
     ]
    },
    {
     "ename": "NameError",
     "evalue": "name 'l' is not defined",
     "output_type": "error",
     "traceback": [
      "\u001b[1;31m---------------------------------------------------------------------------\u001b[0m",
      "\u001b[1;31mNameError\u001b[0m                                 Traceback (most recent call last)",
      "\u001b[1;32m<ipython-input-43-4442a1f74af9>\u001b[0m in \u001b[0;36m<module>\u001b[1;34m()\u001b[0m\n\u001b[0;32m      3\u001b[0m \u001b[0mprint\u001b[0m\u001b[1;33m(\u001b[0m\u001b[0mid\u001b[0m\u001b[1;33m(\u001b[0m\u001b[0ml\u001b[0m\u001b[1;33m)\u001b[0m\u001b[1;33m)\u001b[0m\u001b[1;33m\u001b[0m\u001b[0m\n\u001b[0;32m      4\u001b[0m \u001b[1;32mdel\u001b[0m\u001b[1;33m(\u001b[0m\u001b[0ml\u001b[0m\u001b[1;33m)\u001b[0m\u001b[1;33m\u001b[0m\u001b[0m\n\u001b[1;32m----> 5\u001b[1;33m \u001b[0mprint\u001b[0m\u001b[1;33m(\u001b[0m\u001b[0ml\u001b[0m\u001b[1;33m)\u001b[0m\u001b[1;33m\u001b[0m\u001b[0m\n\u001b[0m\u001b[0;32m      6\u001b[0m \u001b[0mprint\u001b[0m\u001b[1;33m(\u001b[0m\u001b[0mid\u001b[0m\u001b[1;33m(\u001b[0m\u001b[0ml\u001b[0m\u001b[1;33m)\u001b[0m\u001b[1;33m)\u001b[0m\u001b[1;33m\u001b[0m\u001b[0m\n",
      "\u001b[1;31mNameError\u001b[0m: name 'l' is not defined"
     ]
    }
   ],
   "source": [
    "# 删除列表\n",
    "print(l)\n",
    "print(id(l))\n",
    "del(l)\n",
    "print(l)\n",
    "print(id(l))"
   ]
  },
  {
   "cell_type": "code",
   "execution_count": 45,
   "metadata": {},
   "outputs": [
    {
     "name": "stdout",
     "output_type": "stream",
     "text": [
      "['a', 'I love ZFB', 45, 2255, (4+5j)]\n",
      "2169959037192\n",
      "[(4+5j), 2255, 45, 'I love ZFB', 'a']\n",
      "2169959037192\n"
     ]
    }
   ],
   "source": [
    "# reverse: 翻转列表内容, 原地址列表进行翻转\n",
    "l = ['a', \"I love ZFB\", 45, 2255, 4+5j]\n",
    "print(l)\n",
    "print(id(l))\n",
    "l.reverse()\n",
    "print(l)\n",
    "print(id(l))"
   ]
  },
  {
   "cell_type": "code",
   "execution_count": 46,
   "metadata": {},
   "outputs": [
    {
     "name": "stdout",
     "output_type": "stream",
     "text": [
      "[1, 2, 3, 4, 5]\n",
      "2169959035464\n",
      "[1, 2, 3, 4, 5, 6, 7, 8, 9, 10]\n",
      "2169959035464\n"
     ]
    }
   ],
   "source": [
    "# extend: 扩张列表, 两个列表, 把一个直接拼接到后一个上去\n",
    "a = [1,2,3,4,5]\n",
    "b = [6,7,8,9,10]\n",
    "\n",
    "print(a)\n",
    "print(id(a))\n",
    "a.extend(b)\n",
    "print(a)\n",
    "print(id(a))"
   ]
  },
  {
   "cell_type": "code",
   "execution_count": 52,
   "metadata": {},
   "outputs": [
    {
     "name": "stdout",
     "output_type": "stream",
     "text": [
      "[1, 2, 3, 4, 5, 2, 2]\n",
      "3\n"
     ]
    }
   ],
   "source": [
    "# count: 查找列表中指定值或元素的个数\n",
    "a = [1,2,3,4,5,2,2]\n",
    "print(a)\n",
    "a_len = a.count(2)\n",
    "print(a_len)"
   ]
  },
  {
   "cell_type": "code",
   "execution_count": 59,
   "metadata": {},
   "outputs": [
    {
     "name": "stdout",
     "output_type": "stream",
     "text": [
      "[1, 3, 5, 3]\n",
      "[1, 3, 111, 3]\n",
      "2169959162696\n",
      "2169959162696\n",
      "****************************************\n",
      "[1, 3, 111, 3]\n",
      "[1, 3, 111, 3]\n",
      "2169959162696\n",
      "2169959345416\n"
     ]
    }
   ],
   "source": [
    "# copy: 拷贝, 浅拷贝\n",
    "\n",
    "# 列表类型变量赋值示例\n",
    "a = [1,3,5]\n",
    "# list类型, 简单赋值操作, 是传地址\n",
    "b = a\n",
    "b.append(3)\n",
    "print(a)\n",
    "a[2] = 111\n",
    "print(b)\n",
    "print(id(a))\n",
    "print(id(b))\n",
    "print(\"*\" * 40)\n",
    "\n",
    "#为了解决以上问题, list赋值需要采用copy函数\n",
    "b = a.copy()\n",
    "print(a)\n",
    "print(b)\n",
    "print(id(a))\n",
    "print(id(b))"
   ]
  },
  {
   "cell_type": "code",
   "execution_count": 61,
   "metadata": {},
   "outputs": [
    {
     "name": "stdout",
     "output_type": "stream",
     "text": [
      "2169959148872\n",
      "2169959206152\n",
      "2169948284168\n",
      "2169948284168\n",
      "[1, 2, 3, [10, 20, 666]]\n",
      "[1, 2, 3, [10, 20, 666]]\n"
     ]
    }
   ],
   "source": [
    "# 深拷贝和浅拷贝的区别\n",
    "# 出现下列问题的原因是, copy函数是个浅拷贝函数,即只拷贝一层内容\n",
    "# 深拷贝需要使用特定工具\n",
    "a = [1,2,3,[10,20,30]]\n",
    "b = a.copy()\n",
    "print(id(a))\n",
    "print(id(b))\n",
    "print(id(a[3]))\n",
    "print(id(b[3]))\n",
    "a[3][2] = 666\n",
    "print(a)\n",
    "print(b)"
   ]
  },
  {
   "cell_type": "markdown",
   "metadata": {},
   "source": [
    "# 元组-tuple\n",
    "- 元组可以看成是一个不可更改的list\n",
    "## 元组创建"
   ]
  },
  {
   "cell_type": "code",
   "execution_count": 70,
   "metadata": {},
   "outputs": [
    {
     "name": "stdout",
     "output_type": "stream",
     "text": [
      "<class 'tuple'>\n",
      "<class 'tuple'>\n",
      "(1,)\n",
      "<class 'tuple'>\n",
      "(1,)\n",
      "<class 'tuple'>\n",
      "(1, 2, 3, 4, 5)\n",
      "<class 'tuple'>\n",
      "(1, 2, 3, 4, 5)\n",
      "<class 'tuple'>\n",
      "(1, 2, 3, 4, 5)\n"
     ]
    }
   ],
   "source": [
    "# 创建空元组\n",
    "t = ()\n",
    "print(type(t))\n",
    "\n",
    "# 创建一个只有一个值的元组\n",
    "t = (1,)\n",
    "print(type(t))\n",
    "print(t)\n",
    "\n",
    "t = 1,\n",
    "print(type(t))\n",
    "print(t)\n",
    "\n",
    "# 创建多个值的元组\n",
    "t = (1,2,3,4,5)\n",
    "print(type(t))\n",
    "print(t)\n",
    "\n",
    "t = 2,2,3,4,5\n",
    "print(type(t))\n",
    "print(t)\n",
    "\n",
    "# 使用其他结构创建\n",
    "l = [3,2,3,4,5]\n",
    "t = tuple(l)\n",
    "print(type(t))\n",
    "print(t)"
   ]
  },
  {
   "cell_type": "markdown",
   "metadata": {},
   "source": [
    "## 元组的特性\n",
    "- 是序列表, 有序\n",
    "- 元组数据值可以访问, 不能修改, 不能修改, 不能修改\n",
    "- 元组数据可以是任意类型\n",
    "- 总之, list所有特性, 除了可以修改外, 元组都具有\n",
    "- 也就意味着, list具有的一些操作, 比如索引, 分片, 序列相加, 相乘, 成员资格操作等, 一模一样"
   ]
  },
  {
   "cell_type": "code",
   "execution_count": 71,
   "metadata": {},
   "outputs": [
    {
     "name": "stdout",
     "output_type": "stream",
     "text": [
      "5\n"
     ]
    }
   ],
   "source": [
    "# 索引操作\n",
    "t = (1,2,3,4,5)\n",
    "print(t[4])"
   ]
  },
  {
   "cell_type": "code",
   "execution_count": 72,
   "metadata": {},
   "outputs": [
    {
     "ename": "IndexError",
     "evalue": "tuple index out of range",
     "output_type": "error",
     "traceback": [
      "\u001b[1;31m---------------------------------------------------------------------------\u001b[0m",
      "\u001b[1;31mIndexError\u001b[0m                                Traceback (most recent call last)",
      "\u001b[1;32m<ipython-input-72-e427c2117c9d>\u001b[0m in \u001b[0;36m<module>\u001b[1;34m()\u001b[0m\n\u001b[1;32m----> 1\u001b[1;33m \u001b[0mprint\u001b[0m\u001b[1;33m(\u001b[0m\u001b[0mt\u001b[0m\u001b[1;33m[\u001b[0m\u001b[1;36m9\u001b[0m\u001b[1;33m]\u001b[0m\u001b[1;33m)\u001b[0m\u001b[1;33m\u001b[0m\u001b[0m\n\u001b[0m",
      "\u001b[1;31mIndexError\u001b[0m: tuple index out of range"
     ]
    }
   ],
   "source": [
    "# 索引超标\n",
    "print(t[9])"
   ]
  },
  {
   "cell_type": "code",
   "execution_count": 76,
   "metadata": {},
   "outputs": [
    {
     "name": "stdout",
     "output_type": "stream",
     "text": [
      "2169958979280\n",
      "2169957235848\n",
      "(3, 5)\n",
      "(1, 3, 4, 5, 6)\n",
      "(6, 5, 4, 3, 1)\n"
     ]
    }
   ],
   "source": [
    "t = (1,3,4,5,6)\n",
    "t1 = t[1::2]\n",
    "print(id(t))\n",
    "print(id(t1))\n",
    "print(t1)\n",
    "\n",
    "# 切片可以超标\n",
    "t2 = t[:10:]\n",
    "print(t2)\n",
    "\n",
    "t2 = t[::-1]\n",
    "print(t2)"
   ]
  },
  {
   "cell_type": "code",
   "execution_count": 87,
   "metadata": {},
   "outputs": [
    {
     "name": "stdout",
     "output_type": "stream",
     "text": [
      "2169958876504\n",
      "(1, 2, 3)\n",
      "2169957419336\n",
      "(1, 2, 3, 5, 6, 7)\n"
     ]
    },
    {
     "ename": "TypeError",
     "evalue": "'tuple' object does not support item assignment",
     "output_type": "error",
     "traceback": [
      "\u001b[1;31m---------------------------------------------------------------------------\u001b[0m",
      "\u001b[1;31mTypeError\u001b[0m                                 Traceback (most recent call last)",
      "\u001b[1;32m<ipython-input-87-1a27cc15176a>\u001b[0m in \u001b[0;36m<module>\u001b[1;34m()\u001b[0m\n\u001b[0;32m     16\u001b[0m \u001b[1;31m# tuple的不能修改, 指的是内容的不可修改\u001b[0m\u001b[1;33m\u001b[0m\u001b[1;33m\u001b[0m\u001b[0m\n\u001b[0;32m     17\u001b[0m \u001b[1;31m# 修改tuple内容会导致报错\u001b[0m\u001b[1;33m\u001b[0m\u001b[1;33m\u001b[0m\u001b[0m\n\u001b[1;32m---> 18\u001b[1;33m \u001b[0mt1\u001b[0m\u001b[1;33m[\u001b[0m\u001b[1;36m1\u001b[0m\u001b[1;33m]\u001b[0m \u001b[1;33m=\u001b[0m \u001b[1;36m100\u001b[0m\u001b[1;33m\u001b[0m\u001b[0m\n\u001b[0m",
      "\u001b[1;31mTypeError\u001b[0m: 'tuple' object does not support item assignment"
     ]
    }
   ],
   "source": [
    "# 序列相加\n",
    "t1 = (1,2,3)\n",
    "t2 = (5,6,7)\n",
    "\n",
    "print(id(t1))\n",
    "print(t1)\n",
    "# tuple不能修改内容, 此处为传址操作, 重新赋值\n",
    "t1 = t1 + t2\n",
    "print(id(t1))\n",
    "print(t1)\n",
    "\n",
    "# 以上操作, 类似于\n",
    "t1 = (1,2,3)\n",
    "t2 = (4,5,6)\n",
    "\n",
    "# tuple的不能修改, 指的是内容的不可修改\n",
    "# 修改tuple内容会导致报错\n",
    "t1[1] = 100"
   ]
  },
  {
   "cell_type": "code",
   "execution_count": 88,
   "metadata": {},
   "outputs": [
    {
     "name": "stdout",
     "output_type": "stream",
     "text": [
      "(1, 2, 3, 1, 2, 3, 1, 2, 3)\n"
     ]
    }
   ],
   "source": [
    "# 元组相乘\n",
    "t = (1,2,3)\n",
    "t *= 3\n",
    "print(t)"
   ]
  },
  {
   "cell_type": "code",
   "execution_count": 89,
   "metadata": {},
   "outputs": [
    {
     "name": "stdout",
     "output_type": "stream",
     "text": [
      "NO\n"
     ]
    }
   ],
   "source": [
    "# 成员检测\n",
    "t = (3,5,8)\n",
    "if 2 in t:\n",
    "    print(\"YES\")\n",
    "else:\n",
    "    print(\"NO\")"
   ]
  },
  {
   "cell_type": "code",
   "execution_count": 94,
   "metadata": {},
   "outputs": [
    {
     "name": "stdout",
     "output_type": "stream",
     "text": [
      "(1, 3, 4, 5, 'Yanzhuo', 'ZhouFangBing')\n",
      "1, 3, 4, 5, Yanzhuo, ZhouFangBing, "
     ]
    }
   ],
   "source": [
    "# 元组遍历, 一般采用for\n",
    "# 1. 单层元组遍历\n",
    "t = (1,3,4,5, \"Yanzhuo\", \"ZhouFangBing\")\n",
    "print(t)\n",
    "for i in t:\n",
    "    print(i, end = ', ')"
   ]
  },
  {
   "cell_type": "code",
   "execution_count": 96,
   "metadata": {},
   "outputs": [
    {
     "name": "stdout",
     "output_type": "stream",
     "text": [
      "(1, 2, 3)\n",
      "(4, 5, 6)\n",
      "(7, 8, 9)\n",
      "('I', 'Name', 'is Yanzhuo')\n",
      "1 --- 2 --- 3\n",
      "4 --- 5 --- 6\n",
      "7 --- 8 --- 9\n",
      "I --- Name --- is Yanzhuo\n"
     ]
    }
   ],
   "source": [
    "# 2. 双层元组的遍历\n",
    "t = ((1,2,3),(4,5,6),(7,8,9),(\"I\", \"Name\", \"is Yanzhuo\"))\n",
    "\n",
    "# 对以上元组的遍历, 可以如下:\n",
    "# 1.\n",
    "for i in t:\n",
    "    print(i)\n",
    "    \n",
    "\n",
    "for k,m,n in t:\n",
    "    print(k,'---',m,'---',n)"
   ]
  },
  {
   "cell_type": "code",
   "execution_count": null,
   "metadata": {},
   "outputs": [],
   "source": []
  }
 ],
 "metadata": {
  "kernelspec": {
   "display_name": "Python 3",
   "language": "python",
   "name": "python3"
  },
  "language_info": {
   "codemirror_mode": {
    "name": "ipython",
    "version": 3
   },
   "file_extension": ".py",
   "mimetype": "text/x-python",
   "name": "python",
   "nbconvert_exporter": "python",
   "pygments_lexer": "ipython3",
   "version": "3.6.5"
  }
 },
 "nbformat": 4,
 "nbformat_minor": 2
}
