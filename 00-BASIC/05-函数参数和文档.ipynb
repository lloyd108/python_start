{
 "cells": [
  {
   "cell_type": "markdown",
   "metadata": {},
   "source": [
    "# 四类参数\n",
    "- 普通参数\n",
    "- 默认参数\n",
    "- 关键字参数\n",
    "- 收集参数\n",
    "\n",
    "## 关键字参数\n",
    "- 语法\n",
    "\n",
    "        def func(p1 = v1, p2 = v2, ...):\n",
    "            func_body\n",
    "        \n",
    "        # 调用参数\n",
    "        func(p1 = value1, p2 = value2, ...)\n",
    "- 比较麻烦， 但也有好处:\n",
    "    - 不容易混淆， 一般实参和形参只是按位置一一对应即可， 容易出错\n",
    "    - 使用关键字参数， 可以不考虑参数位置"
   ]
  },
  {
   "cell_type": "code",
   "execution_count": 6,
   "metadata": {},
   "outputs": [
    {
     "name": "stdout",
     "output_type": "stream",
     "text": [
      "I am a student\n",
      "我叫jingjing, 我今年18岁了， 我住我家\n",
      "I am a student\n",
      "我叫我家, 我今年jingjing岁了， 我住18\n",
      "I am a student\n",
      "我叫jingjing, 我今年18岁了， 我住我家\n",
      "I am a student\n",
      "我叫jingjing, 我今年18岁了， 我住我家\n"
     ]
    }
   ],
   "source": [
    "# 关键字参数案例\n",
    "def stu(name,age,addr):\n",
    "    print(\"I am a student\")\n",
    "    print(\"我叫{0}, 我今年{1}岁了， 我住{2}\".format(name,age,addr))\n",
    "\n",
    "n = \"jingjing\"\n",
    "a = 18\n",
    "addr = \"我家\"\n",
    "\n",
    "# 普通参数， 只按照位置传递， 容易出错\n",
    "stu(n,a,addr)\n",
    "stu(addr,n,a)\n",
    "\n",
    "\n",
    "def stu_key(name=\"no name\",age=0,addr=\"no addr\"):\n",
    "    print(\"I am a student\")\n",
    "    print(\"我叫{0}, 我今年{1}岁了， 我住{2}\".format(name,age,addr))\n",
    "\n",
    "n = \"jingjing\"\n",
    "a = 18\n",
    "addr = \"我家\"\n",
    "\n",
    "# 关键字参数\n",
    "stu_key(name=n, age=a, addr=addr)\n",
    "stu_key(age=a, addr=addr, name=n)\n"
   ]
  },
  {
   "cell_type": "markdown",
   "metadata": {},
   "source": [
    "## 收集参数\n",
    "- 把没有位置， 不能和定义时的参数位置相对应的参数，放入一个特定的数据结构中\n",
    "- 语法\n",
    "\n",
    "        def func(*args):\n",
    "            func_body\n",
    "            按照list使用方式访问args得到传入的参数\n",
    "            \n",
    "        # 调用\n",
    "        func(p1, p2, p3, ...)\n",
    "        \n",
    "- 参数名args不是必须这么写， 但是， 我们推荐直接用args， 约定俗成\n",
    "- 参数名args前需要有星号"
   ]
  },
  {
   "cell_type": "code",
   "execution_count": 10,
   "metadata": {},
   "outputs": [
    {
     "name": "stdout",
     "output_type": "stream",
     "text": [
      "hello 大家好， 我自我介绍下：\n",
      "<class 'tuple'>\n",
      "yanzhuo\n",
      "18\n",
      "地沟\n",
      "zhoufangbing\n",
      "single\n",
      "hello 大家好， 我自我介绍下：\n",
      "<class 'tuple'>\n",
      "xiaoming\n",
      "24\n"
     ]
    }
   ],
   "source": [
    "# 收集参数代码\n",
    "# 函数模拟一个学生进行自我介绍， 但具体内容不清楚\n",
    "# args把它看作一个list\n",
    "def stu(*args):\n",
    "    print(\"hello 大家好， 我自我介绍下：\")\n",
    "    # type函数作用时检测变量的类型\n",
    "    print(type(args))\n",
    "    for item in args:\n",
    "        print(item)\n",
    "\n",
    "stu(\"yanzhuo\", 18, \"地沟\", \"zhoufangbing\", \"single\")\n",
    "stu(\"xiaoming\",24)"
   ]
  },
  {
   "cell_type": "code",
   "execution_count": 12,
   "metadata": {},
   "outputs": [
    {
     "name": "stdout",
     "output_type": "stream",
     "text": [
      "hello 大家好， 我自我介绍下：\n",
      "<class 'tuple'>\n"
     ]
    }
   ],
   "source": [
    "# 说明收集参数可以不带任何实参调用，此时收集参数为空tuple\n",
    "stu()"
   ]
  },
  {
   "cell_type": "code",
   "execution_count": 13,
   "metadata": {},
   "outputs": [
    {
     "ename": "TypeError",
     "evalue": "stu() got an unexpected keyword argument 'name'",
     "output_type": "error",
     "traceback": [
      "\u001b[1;31m---------------------------------------------------------------------------\u001b[0m",
      "\u001b[1;31mTypeError\u001b[0m                                 Traceback (most recent call last)",
      "\u001b[1;32m<ipython-input-13-fb8bb100c054>\u001b[0m in \u001b[0;36m<module>\u001b[1;34m()\u001b[0m\n\u001b[0;32m      1\u001b[0m \u001b[1;31m# 如果使用关键字参数格式调用，会出现问题\u001b[0m\u001b[1;33m\u001b[0m\u001b[1;33m\u001b[0m\u001b[0m\n\u001b[1;32m----> 2\u001b[1;33m \u001b[0mstu\u001b[0m\u001b[1;33m(\u001b[0m\u001b[0mname\u001b[0m\u001b[1;33m=\u001b[0m\u001b[1;34m\"yanzhuo\"\u001b[0m\u001b[1;33m)\u001b[0m\u001b[1;33m\u001b[0m\u001b[0m\n\u001b[0m",
      "\u001b[1;31mTypeError\u001b[0m: stu() got an unexpected keyword argument 'name'"
     ]
    }
   ],
   "source": [
    "# 如果使用关键字参数格式调用，会出现问题\n",
    "stu(name=\"yanzhuo\")"
   ]
  },
  {
   "cell_type": "markdown",
   "metadata": {},
   "source": [
    "## 收集参数之关键字收集参数\n",
    "- 把关键字参数按字典格式存入收集参数\n",
    "\n",
    "        def func(**kwargs):\n",
    "            func_body\n",
    "            \n",
    "        # 调用\n",
    "        func(p1=v1, p2=v2, p3=v3, ...)\n",
    "- kwargs一般约定俗成\n",
    "- 调用的时候，把多余的关键字参数放入kwargs\n",
    "- 访问kwargs需要按字典格式访问"
   ]
  },
  {
   "cell_type": "code",
   "execution_count": 14,
   "metadata": {},
   "outputs": [
    {
     "name": "stdout",
     "output_type": "stream",
     "text": [
      "Hello 大家好， 我先自我介绍一下：\n",
      "<class 'dict'>\n",
      "name --- yanzhuo\n",
      "age --- 18\n",
      "addr --- 地沟\n",
      "lover --- zhoufangbing\n",
      "work --- worker\n",
      "**************************************************\n",
      "Hello 大家好， 我先自我介绍一下：\n",
      "<class 'dict'>\n",
      "name --- 闫卓\n"
     ]
    }
   ],
   "source": [
    "# 收集参数案例\n",
    "# 自我介绍\n",
    "# 调用的时候需要使用关键字参数调用\n",
    "def stu(**kwargs):\n",
    "    # 在函数体内对于kwargs的使用不用带星号\n",
    "    print(\"Hello 大家好， 我先自我介绍一下：\")\n",
    "    print(type(kwargs))\n",
    "    # 对于字典的访问， python2 和 python3有区别\n",
    "    for k,v in kwargs.items():\n",
    "        print(k, \"---\", v)\n",
    "\n",
    "stu(name=\"yanzhuo\", age=18, addr=\"地沟\", lover=\"zhoufangbing\", work=\"worker\")\n",
    "\n",
    "print(\"*\" * 50)\n",
    "\n",
    "stu(name=\"闫卓\")\n"
   ]
  },
  {
   "cell_type": "code",
   "execution_count": 15,
   "metadata": {},
   "outputs": [
    {
     "name": "stdout",
     "output_type": "stream",
     "text": [
      "Hello 大家好， 我先自我介绍一下：\n",
      "<class 'dict'>\n"
     ]
    }
   ],
   "source": [
    "# 收集参数可以为空\n",
    "stu()"
   ]
  },
  {
   "cell_type": "markdown",
   "metadata": {},
   "source": [
    "### 收集参数混合调用的顺序问题\n",
    "- 收集参数， 关键字参数， 普通参数可以混合使用\n",
    "- 使用规则就是， 普通参数和关键字参数优先\n",
    "- 定义的时候一般按照普通参数， 关键字参数， 收集参数tuple， 收集参数dict顺序"
   ]
  },
  {
   "cell_type": "code",
   "execution_count": 18,
   "metadata": {},
   "outputs": [
    {
     "name": "stdout",
     "output_type": "stream",
     "text": [
      "Hello 大家好\n",
      "我叫Yanzhuo, 今年31岁了.\n",
      "#############################################\n",
      "我没有爱好, 很遗憾\n",
      "*********************************************\n",
      "=============================================\n",
      "Hello 大家好\n",
      "我叫Yanzhuo, 今年31岁了.\n",
      "#############################################\n",
      "我的爱好是swim.\n",
      "*********************************************\n",
      "=============================================\n",
      "Hello 大家好\n",
      "我叫Yanzhuo, 今年31岁了.\n",
      "Zhoufangbing\n",
      "Lurenjia\n",
      "#############################################\n",
      "我的爱好是swimming.\n",
      "*********************************************\n",
      "hobby1 --- running\n",
      "=============================================\n"
     ]
    }
   ],
   "source": [
    "# 手机参数混合调用案例\n",
    "# stu模拟一个学生的自我介绍\n",
    "# 注意普通参数和关键字参数顺序\n",
    "\n",
    "def stu(name, age, *args, hobby=\"没有\", **kwargs):\n",
    "    print(\"Hello 大家好\")\n",
    "    print(\"我叫{0}, 今年{1}岁了.\".format(name,age))\n",
    "    \n",
    "    for item in args:\n",
    "        print(item)\n",
    "    print(\"#\"*45)\n",
    "    \n",
    "    if hobby == \"没有\":\n",
    "        print(\"我没有爱好, 很遗憾\")\n",
    "    else:\n",
    "        print(\"我的爱好是{0}.\".format(hobby))\n",
    "    print(\"*\"*45)\n",
    "    \n",
    "    for k,v in kwargs.items():\n",
    "        print(k, \"---\", v)\n",
    "    print(\"=\"*45)\n",
    "        \n",
    "#开始调用函数\n",
    "name = \"Yanzhuo\"\n",
    "age = 31\n",
    "\n",
    "stu(name, age)\n",
    "stu(name, age, hobby=\"swim\")\n",
    "stu(name, age, \"Zhoufangbing\", \"Lurenjia\", hobby=\"swimming\", hobby1=\"running\")"
   ]
  },
  {
   "cell_type": "markdown",
   "metadata": {},
   "source": [
    "### 手机参数的解包问题\n",
    "- 把参数放入list或者dict中, 直接把list或者dict中的值放入收集参数中\n",
    "- 语法: 参考案例"
   ]
  },
  {
   "cell_type": "code",
   "execution_count": 33,
   "metadata": {},
   "outputs": [
    {
     "name": "stdout",
     "output_type": "stream",
     "text": [
      "Hahaha\n",
      "<class 'tuple'>\n",
      "<class 'list'>\n",
      "0\n",
      "['Zhoufangbing', 16, 'lolololo']\n",
      "##################################################\n",
      "Hahaha\n",
      "<class 'tuple'>\n",
      "<class 'str'>\n",
      "0\n",
      "Zhoufangbing\n",
      "<class 'int'>\n",
      "1\n",
      "16\n",
      "<class 'str'>\n",
      "2\n",
      "lolololo\n",
      "##################################################\n"
     ]
    }
   ],
   "source": [
    "# 收集参数的解包问题\n",
    "\n",
    "def stu(*args):\n",
    "    print(\"Hahaha\")\n",
    "    print(type(args))\n",
    "    \n",
    "    n = 0\n",
    "    for i in args:\n",
    "        print(type(i))\n",
    "        print(n)\n",
    "        n += 1\n",
    "        print(i)\n",
    "        \n",
    "    print(\"#\"*50)\n",
    "#stu(\"Yanzhuo\", \"Zhoufangbing\", 32, 29)\n",
    "\n",
    "l = list()\n",
    "l.append(\"Zhoufangbing\")\n",
    "l.append(16)\n",
    "l.append(\"lolololo\")\n",
    "#print(l)\n",
    "\n",
    "# 此时, args的表示形式是tuple内一个list类型的元素, 即 args = ([\"Zhoufangbing\", 16, \"lolololo\"])\n",
    "# 很显然跟我们最初的想法违背\n",
    "stu(l)\n",
    "\n",
    "# 增加解包符号*, 在进行调用, 正常\n",
    "stu(*l)"
   ]
  },
  {
   "cell_type": "markdown",
   "metadata": {},
   "source": [
    "### 同理, dict类型收集参数一样可以解包, 但是\n",
    "- 对dict类型进行解包\n",
    "- 解包符号是**"
   ]
  },
  {
   "cell_type": "markdown",
   "metadata": {},
   "source": [
    "# 返回值\n",
    "- 函数和过程的区别\n",
    "    - 有无返回值\n",
    "- 需要用return显示返回内容\n",
    "- 如果没有返回， 则默认返回None\n",
    "- 推荐写法， 无论有无返回值， 最后都要以return 结束"
   ]
  },
  {
   "cell_type": "code",
   "execution_count": 35,
   "metadata": {},
   "outputs": [
    {
     "name": "stdout",
     "output_type": "stream",
     "text": [
      "有返回值\n",
      "66\n",
      "没有返回值\n",
      "None\n"
     ]
    }
   ],
   "source": [
    "# 返回值示例\n",
    "\n",
    "def func_1():\n",
    "    print(\"有返回值\")\n",
    "    return 66\n",
    "\n",
    "def func_2():\n",
    "    print(\"没有返回值\")\n",
    "    \n",
    "f1 = func_1()\n",
    "print(f1)\n",
    "\n",
    "f2 = func_2()\n",
    "print(f2)"
   ]
  },
  {
   "cell_type": "markdown",
   "metadata": {},
   "source": [
    "# 函数文档\n",
    "- 函数的文档的作用是对当前函数提供使用相关的参考信息\n",
    "- 文档的写法：\n",
    "    - 在函数内部开始的第一行使用三引号字符串定义符\n",
    "    - 一般具有特定格式\n",
    "    - 参考案例\n",
    "- 文档查看\n",
    "    - 使用help函数，形如 help(func)\n",
    "    - 使用__doc__, 参看案例"
   ]
  },
  {
   "cell_type": "code",
   "execution_count": 17,
   "metadata": {},
   "outputs": [
    {
     "name": "stdout",
     "output_type": "stream",
     "text": [
      "This is func stu\n",
      "3\n"
     ]
    }
   ],
   "source": [
    "# 文档案例\n",
    "# 函数stu是模拟一个学生自我介绍的内容\n",
    "def stu(name, age, *args):\n",
    "    \"\"\"\n",
    "    这是个文档，暂未实现功能， row1\n",
    "    这是个文档，暂未实现功能， row2\n",
    "    这是个文档，暂未实现功能， row3\n",
    "    \"\"\"\n",
    "    print(\"This is func stu\")\n",
    "    \n",
    "    return 3\n",
    "\n",
    "print(stu('name',16))"
   ]
  },
  {
   "cell_type": "code",
   "execution_count": 19,
   "metadata": {},
   "outputs": [
    {
     "name": "stdout",
     "output_type": "stream",
     "text": [
      "Help on function stu in module __main__:\n",
      "\n",
      "stu(name, age, *args)\n",
      "    这是个文档，暂未实现功能， row1\n",
      "    这是个文档，暂未实现功能， row2\n",
      "    这是个文档，暂未实现功能， row3\n",
      "\n"
     ]
    },
    {
     "data": {
      "text/plain": [
       "'\\n    这是个文档，暂未实现功能， row1\\n    这是个文档，暂未实现功能， row2\\n    这是个文档，暂未实现功能， row3\\n    '"
      ]
     },
     "execution_count": 19,
     "metadata": {},
     "output_type": "execute_result"
    }
   ],
   "source": [
    "# 查看函数文档\n",
    "help(stu)\n",
    "stu.__doc__"
   ]
  },
  {
   "cell_type": "code",
   "execution_count": null,
   "metadata": {},
   "outputs": [],
   "source": []
  }
 ],
 "metadata": {
  "kernelspec": {
   "display_name": "Python 3",
   "language": "python",
   "name": "python3"
  },
  "language_info": {
   "codemirror_mode": {
    "name": "ipython",
    "version": 3
   },
   "file_extension": ".py",
   "mimetype": "text/x-python",
   "name": "python",
   "nbconvert_exporter": "python",
   "pygments_lexer": "ipython3",
   "version": "3.6.5"
  }
 },
 "nbformat": 4,
 "nbformat_minor": 2
}
