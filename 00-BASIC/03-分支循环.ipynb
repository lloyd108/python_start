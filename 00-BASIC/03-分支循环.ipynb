{
 "cells": [
  {
   "cell_type": "markdown",
   "metadata": {},
   "source": [
    "# 三大结构\n",
    "- 顺序\n",
    "- 分支\n",
    "- 循环"
   ]
  },
  {
   "cell_type": "markdown",
   "metadata": {},
   "source": [
    "# 分支\n",
    "- 分支的基本语法\n",
    "\n",
    "        if 条件表达式:\n",
    "            语句1\n",
    "            语句2\n",
    "            语句3\n",
    "            ......\n",
    "- 条件表达式就是计算结果必须为布尔值的表达式(True/False)\n",
    "- 表达式后面的冒号不能少\n",
    "- 注意if后面出现的语句,如果属于if语句块,则必须同一个缩进登记\n",
    "- 条件表达式结果为True执行if后面的缩进的语句块"
   ]
  },
  {
   "cell_type": "code",
   "execution_count": 5,
   "metadata": {},
   "outputs": [
    {
     "name": "stdout",
     "output_type": "stream",
     "text": [
      "大于0\n",
      "开始咯\n"
     ]
    }
   ],
   "source": [
    "a = 6\n",
    "if a > 0:\n",
    "    print('大于0')\n",
    "elif a < 0:\n",
    "    print('小于0')\n",
    "else:\n",
    "    print('等于0')\n",
    "\n",
    "print('开始咯')"
   ]
  },
  {
   "cell_type": "markdown",
   "metadata": {},
   "source": [
    "### 双向分支\n",
    "- if...else...语句\n",
    "        \n",
    "        if 条件表达式:\n",
    "            语句1\n",
    "            语句2\n",
    "            ...\n",
    "        else:\n",
    "            语句1\n",
    "            语句2\n",
    "            ...\n",
    "- 双向分支有两个分支,当程序执行到if...else...语句的时候,一定会执行if或else中的一个,也仅执行一个\n",
    "- 缩进问题, if和else一个层级, 其余语句一个层级"
   ]
  },
  {
   "cell_type": "code",
   "execution_count": 8,
   "metadata": {},
   "outputs": [
    {
     "name": "stdout",
     "output_type": "stream",
     "text": [
      "请输入你的性别://\n",
      "你输入的性别是: //\n",
      "什么鬼\n",
      "搞完手工\n"
     ]
    }
   ],
   "source": [
    "# input的作用是\n",
    "# 1. 在屏幕上输出括号内的字符串\n",
    "# 2. 接受用户输入的内容并返回到程序\n",
    "# 3. input返回的内容一定是字符串类型\n",
    "\n",
    "gender = input(\"请输入你的性别:\")\n",
    "print(\"你输入的性别是: {0}\".format(gender))\n",
    "\n",
    "if gender == \"男\":\n",
    "    print(\"ok, 是男的\")\n",
    "else:\n",
    "    print(\"什么鬼\")\n",
    "    \n",
    "print(\"搞完手工\")"
   ]
  },
  {
   "cell_type": "markdown",
   "metadata": {},
   "source": [
    "## 多路分支\n",
    "- 很多分支的情况,简称多路分支\n",
    "\n",
    "        if 条件表达式:\n",
    "            语句1\n",
    "            ...\n",
    "        elif 条件表达式:\n",
    "            语句1\n",
    "            ...\n",
    "        elif 条件表达式:\n",
    "            语句1\n",
    "            ...\n",
    "        ......\n",
    "        else:\n",
    "            语句1\n",
    "            ...\n",
    "- elif 可以有很多个\n",
    "- else 可以没有\n",
    "- 多路分支只会选一个执行"
   ]
  },
  {
   "cell_type": "code",
   "execution_count": 13,
   "metadata": {},
   "outputs": [
    {
     "name": "stdout",
     "output_type": "stream",
     "text": [
      "请输入学生成绩:55\n",
      "EEEEE\n"
     ]
    }
   ],
   "source": [
    "# score 存放学生成绩\n",
    "# 注意input的返回值类型\n",
    "\n",
    "score = input(\"请输入学生成绩:\")\n",
    "\n",
    "score = int(score)\n",
    "\n",
    "if score >= 90:\n",
    "    print(\"A\")\n",
    "elif score >= 80:\n",
    "    print(\"B\")\n",
    "elif score >= 70:\n",
    "    print(\"C\")\n",
    "elif score >= 60:\n",
    "    print(\"D\")\n",
    "else:\n",
    "    print(\"EEEEE\")"
   ]
  },
  {
   "cell_type": "markdown",
   "metadata": {},
   "source": [
    "## if语句其他\n",
    "- if语句可以嵌套使用,但不推荐\n",
    "- python没有switch-case语句"
   ]
  },
  {
   "cell_type": "markdown",
   "metadata": {},
   "source": [
    "# 循环语句\n",
    "- 重复执行某些固定动作或者处理基本固定的事务\n",
    "- 分类\n",
    "    - for循环\n",
    "    - while循环\n",
    "## for循环\n",
    "- for循环\n",
    "\n",
    "        for 变量 in 序列:\n",
    "            语句1\n",
    "            语句2\n",
    "            ...\n",
    "            "
   ]
  },
  {
   "cell_type": "code",
   "execution_count": 6,
   "metadata": {},
   "outputs": [
    {
     "name": "stdout",
     "output_type": "stream",
     "text": [
      "张三\n",
      "李四\n",
      "王二麻子\n",
      "老六\n",
      "这个人是张三\n",
      "这个人是李四\n",
      "这个人是王二麻子\n",
      "呵呵哒,老六\n"
     ]
    }
   ],
   "source": [
    "# 列表就是一列数字或者其他值,一般用中括号表示([])\n",
    "# 例如 [\"张三\", \"李四\", \"王二麻子\", \"老六\"]\n",
    "\n",
    "# 打印姓名\n",
    "for name in [\"张三\", \"李四\", \"王二麻子\", \"老六\"]:\n",
    "    print(name)\n",
    "\n",
    "l = [\"张三\", \"李四\", \"王二麻子\", \"老六\"]\n",
    "for v in l:\n",
    "    if v == \"老六\":\n",
    "        print(\"呵呵哒,{}\".format(v))\n",
    "        break;\n",
    "    print(\"这个人是{}\".format(v))"
   ]
  },
  {
   "cell_type": "markdown",
   "metadata": {},
   "source": [
    "## range介绍\n",
    "- 生成一个数字序列\n",
    "- 具体范围可以设定"
   ]
  },
  {
   "cell_type": "code",
   "execution_count": 8,
   "metadata": {},
   "outputs": [
    {
     "name": "stdout",
     "output_type": "stream",
     "text": [
      "1\n",
      "2\n",
      "3\n",
      "4\n",
      "5\n",
      "6\n",
      "7\n",
      "8\n",
      "9\n"
     ]
    }
   ],
   "source": [
    "# range练习\n",
    "# 打印从1-10的数字\n",
    "# 注意, 一般在python中,如果由表示数字范围的两个数,一般是包含左边数字不包含右边数字\n",
    "# randint是特例, 它左右都包含\n",
    "# range函数在python2和python3中有严重区别\n",
    "for i in range(1,11):\n",
    "    print(i)"
   ]
  },
  {
   "cell_type": "markdown",
   "metadata": {},
   "source": [
    "## for-else语句\n",
    "- 当for循环结束的时候,会执行else语句\n",
    "- else语句是可选的"
   ]
  },
  {
   "cell_type": "code",
   "execution_count": 10,
   "metadata": {},
   "outputs": [
    {
     "name": "stdout",
     "output_type": "stream",
     "text": [
      "0\n",
      "1\n",
      "2\n",
      "3\n",
      "4\n",
      "5\n",
      "6\n",
      "7\n",
      "8\n",
      "9\n",
      "DONE\n"
     ]
    }
   ],
   "source": [
    "for v in range(10):\n",
    "    print(v)\n",
    "else:\n",
    "    print(\"DONE\")"
   ]
  },
  {
   "cell_type": "markdown",
   "metadata": {},
   "source": [
    "## 循环之break,continue,pass\n",
    "- break: 无条件结束整个循环,简称循环猝死\n",
    "- continue: 无条件结束本次循环,重新进入下一轮循环\n",
    "- pass: 表示略过"
   ]
  },
  {
   "cell_type": "code",
   "execution_count": 15,
   "metadata": {},
   "outputs": [
    {
     "name": "stdout",
     "output_type": "stream",
     "text": [
      "请输入数字:21\n",
      "奇数\n",
      "偶数\n",
      "2\n",
      "奇数\n",
      "偶数\n",
      "4\n",
      "5\n",
      "偶数\n",
      "6\n",
      "奇数\n",
      "偶数\n",
      "8\n",
      "奇数\n"
     ]
    }
   ],
   "source": [
    "# 在1-10的数字中\n",
    "\n",
    "for v in range(1,int(input(\"请输入数字:\"))+1):\n",
    "    if v == 5:\n",
    "        pass\n",
    "    elif v == 10:\n",
    "        break\n",
    "    elif v % 2 == 1:\n",
    "        print(\"奇数\")\n",
    "        continue\n",
    "    elif v % 2 == 0:\n",
    "        print(\"偶数\")\n",
    "    print(v)"
   ]
  },
  {
   "cell_type": "code",
   "execution_count": null,
   "metadata": {},
   "outputs": [],
   "source": []
  },
  {
   "cell_type": "code",
   "execution_count": null,
   "metadata": {},
   "outputs": [],
   "source": []
  },
  {
   "cell_type": "code",
   "execution_count": null,
   "metadata": {},
   "outputs": [],
   "source": []
  }
 ],
 "metadata": {
  "kernelspec": {
   "display_name": "Python 3",
   "language": "python",
   "name": "python3"
  },
  "language_info": {
   "codemirror_mode": {
    "name": "ipython",
    "version": 3
   },
   "file_extension": ".py",
   "mimetype": "text/x-python",
   "name": "python",
   "nbconvert_exporter": "python",
   "pygments_lexer": "ipython3",
   "version": "3.6.5"
  }
 },
 "nbformat": 4,
 "nbformat_minor": 2
}
