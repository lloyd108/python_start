{
 "cells": [
  {
   "cell_type": "markdown",
   "metadata": {},
   "source": [
    "# 关于元组的函数\n",
    "- 以下看代码\n",
    "- 以下函数, 对list基本适用"
   ]
  },
  {
   "cell_type": "code",
   "execution_count": 2,
   "metadata": {},
   "outputs": [
    {
     "name": "stdout",
     "output_type": "stream",
     "text": [
      "6\n"
     ]
    }
   ],
   "source": [
    "# len: 获取元组的长度\n",
    "t = (1,2,3,4,5,5)\n",
    "print(len(t))"
   ]
  },
  {
   "cell_type": "code",
   "execution_count": 10,
   "metadata": {},
   "outputs": [
    {
     "name": "stdout",
     "output_type": "stream",
     "text": [
      "5\n",
      "1\n"
     ]
    }
   ],
   "source": [
    "# max, min: 最大最小值\n",
    "# 如果, 列表或元组中有多个最大最小值, 则实际打印出哪个\n",
    "print(max(t))\n",
    "print(min(t))\n"
   ]
  },
  {
   "cell_type": "code",
   "execution_count": 13,
   "metadata": {},
   "outputs": [
    {
     "name": "stdout",
     "output_type": "stream",
     "text": [
      "[1, 2, 3, 4, 5] (1, 2, 3, 4, 5)\n",
      "()\n"
     ]
    }
   ],
   "source": [
    "# tuple: 转化或创建元组\n",
    "l = [1,2,3,4,5]\n",
    "t = tuple(l)\n",
    "print(l,t)\n",
    "\n",
    "t = tuple()\n",
    "print(t)"
   ]
  },
  {
   "cell_type": "markdown",
   "metadata": {},
   "source": [
    "# 元组的函数\n",
    "- 基本跟list通用, 除对list修改的函数(append/insert/del等)"
   ]
  },
  {
   "cell_type": "code",
   "execution_count": 19,
   "metadata": {},
   "outputs": [
    {
     "name": "stdout",
     "output_type": "stream",
     "text": [
      "3\n",
      "9\n",
      "0\n"
     ]
    }
   ],
   "source": [
    "# count: 计算指定数据出现的次数\n",
    "t = (1,3,1,2,4,1,4,3,2,5,)\n",
    "\n",
    "print(t.count(1))\n",
    "\n",
    "# index: 求指定元素在元组中的索引位置\n",
    "print(t.index(5))\n",
    "\n",
    "# 如果需要查找的数字是多个, 则返回第一个\n",
    "print(t.index(1))"
   ]
  },
  {
   "cell_type": "markdown",
   "metadata": {},
   "source": [
    "# 元组变量交换法\n",
    "- 两个变量交换值"
   ]
  },
  {
   "cell_type": "code",
   "execution_count": 23,
   "metadata": {},
   "outputs": [
    {
     "name": "stdout",
     "output_type": "stream",
     "text": [
      "1 3\n",
      "******************************\n",
      "3 1\n",
      "******************************\n",
      "1 3\n"
     ]
    }
   ],
   "source": [
    "# 两个变量交换值\n",
    "a = 1\n",
    "b = 3\n",
    "print(a,b)\n",
    "print(\"*\" * 30)\n",
    "\n",
    "# java程序员会这么写:\n",
    "c = a\n",
    "a = b\n",
    "b = c\n",
    "print(a,b)\n",
    "print(\"*\" * 30)\n",
    "\n",
    "# python写法\n",
    "a,b = b,a\n",
    "print(a,b)"
   ]
  },
  {
   "cell_type": "markdown",
   "metadata": {},
   "source": [
    "# 集合-set\n",
    "- 集合是高中数学中的一个概念\n",
    "- 一堆确定的无序的唯一的数据, 集合中每一个数据成为一个元素\n"
   ]
  },
  {
   "cell_type": "code",
   "execution_count": 30,
   "metadata": {},
   "outputs": [
    {
     "name": "stdout",
     "output_type": "stream",
     "text": [
      "<class 'set'>\n",
      "set()\n",
      "<class 'set'>\n",
      "{1, 2, 3, 4, 5, 7, 9}\n"
     ]
    }
   ],
   "source": [
    "# 集合的定义\n",
    "s = set()\n",
    "print(type(s))\n",
    "print(s)\n",
    "\n",
    "# 此时, 大括号内一定要有值, 否则定义出的是一个dict\n",
    "s = {1,2,3,4,5,7,9,1}\n",
    "print(type(s))\n",
    "print(s)"
   ]
  },
  {
   "cell_type": "code",
   "execution_count": 28,
   "metadata": {},
   "outputs": [
    {
     "name": "stdout",
     "output_type": "stream",
     "text": [
      "<class 'dict'> <class 'list'> <class 'tuple'>\n"
     ]
    }
   ],
   "source": [
    "# 如果只用大括号{}定义, 则定义的是一个dict类型\n",
    "# 用小括号()定义, 则定义的是一个tuple类型\n",
    "# 用中括号[]定义, 则定义的是一个list类型\n",
    "d = {}\n",
    "l = []\n",
    "t = ()\n",
    "print(type(d), type(l), type(t))"
   ]
  },
  {
   "cell_type": "markdown",
   "metadata": {},
   "source": [
    "# 集合的特征\n",
    "- 集合内数据无序, 即无法使用索引和分片\n",
    "- 集合内数据元素具有唯一性, 可以用来排除重复数据\n",
    "- 集合内的数据, str, int, float, tuple等, 即内部职能放置可哈希的数据"
   ]
  },
  {
   "cell_type": "markdown",
   "metadata": {},
   "source": [
    "# 集合序列操作"
   ]
  },
  {
   "cell_type": "code",
   "execution_count": 33,
   "metadata": {},
   "outputs": [
    {
     "name": "stdout",
     "output_type": "stream",
     "text": [
      "{'I', 'ZFB', 4, 5, 'Love'}\n",
      "爱呀\n",
      "爱个锤子\n"
     ]
    }
   ],
   "source": [
    "# 成员检测\n",
    "# in, not in\n",
    "s = {4,5,\"I\",\"Love\",\"ZFB\"}\n",
    "print(s)\n",
    "\n",
    "if 'Love' in s:\n",
    "    print(\"爱呀\")\n",
    "    \n",
    "if \"haha\" not in s:\n",
    "    print(\"爱个锤子\")"
   ]
  },
  {
   "cell_type": "markdown",
   "metadata": {},
   "source": [
    "# 集合的遍历操作"
   ]
  },
  {
   "cell_type": "code",
   "execution_count": 35,
   "metadata": {},
   "outputs": [
    {
     "name": "stdout",
     "output_type": "stream",
     "text": [
      "I ZFB 4 5 Love "
     ]
    }
   ],
   "source": [
    "# for 循环\n",
    "s = {4,5,\"I\",\"Love\",\"ZFB\"}\n",
    "\n",
    "for i in s:\n",
    "    print(i, end=\" \")"
   ]
  },
  {
   "cell_type": "code",
   "execution_count": 39,
   "metadata": {},
   "outputs": [
    {
     "name": "stdout",
     "output_type": "stream",
     "text": [
      "I --- Love --- ZFB\n",
      "4 --- 5 --- 6\n",
      "1 --- 2 --- 3\n",
      "('I', 'Love', 'ZFB')\n",
      "(4, 5, 6)\n",
      "(1, 2, 3)\n"
     ]
    }
   ],
   "source": [
    "# 带有元组的集合遍历\n",
    "s = {(1,2,3),(\"I\",\"Love\",\"ZFB\"),(4,5,6)}\n",
    "\n",
    "for k,m,n in s:\n",
    "    print(k,\"---\",m,\"---\",n)\n",
    "\n",
    "for k in s:\n",
    "    print(k)"
   ]
  },
  {
   "cell_type": "markdown",
   "metadata": {},
   "source": [
    "# 集合的内涵"
   ]
  },
  {
   "cell_type": "code",
   "execution_count": 41,
   "metadata": {},
   "outputs": [
    {
     "name": "stdout",
     "output_type": "stream",
     "text": [
      "{32, 1, 2, 3, 4, 3241, 1552342, 314, 123, 121151}\n",
      "{32, 1, 2, 3, 4, 3241, 1552342, 314, 123, 121151}\n"
     ]
    }
   ],
   "source": [
    "# 普通集合内涵\n",
    "# 以下集合在初始化后自动过滤掉重复元素\n",
    "s = {123,3241,121151,1,32,314,1552342,1,2,3,1,3,2,4,1,3,2,1,3,1}\n",
    "print(s)\n",
    "\n",
    "# 普通集合内涵\n",
    "ss = {i for i in s}\n",
    "print(ss)"
   ]
  },
  {
   "cell_type": "code",
   "execution_count": 44,
   "metadata": {},
   "outputs": [
    {
     "name": "stdout",
     "output_type": "stream",
     "text": [
      "{1, 3, 3241, 123, 121151}\n"
     ]
    }
   ],
   "source": [
    "# 带条件的集合内涵\n",
    "sss = {i for i in ss if i % 2 == 1}\n",
    "print(sss)"
   ]
  },
  {
   "cell_type": "code",
   "execution_count": 46,
   "metadata": {},
   "outputs": [
    {
     "name": "stdout",
     "output_type": "stream",
     "text": [
      "{'LoveLove', 'ZFB', 'I', 'III', 'ZFBZFB', 'ZFBZFBZFBZFB', 'ZFBZFBZFB', 'II', 'LoveLoveLoveLove', 'IIII', 'Love', 'LoveLoveLove'}\n",
      "{'ZFBZFB', 'II', 'LoveLove'}\n"
     ]
    }
   ],
   "source": [
    "# 多循环的集合内涵\n",
    "s1 = {1,2,3,4}\n",
    "s2 = {\"I\", \"Love\", \"ZFB\"}\n",
    "\n",
    "s = {m * n for m in s1 for n in s2}\n",
    "print(s)\n",
    "\n",
    "s = {m * n for m in s1 for n in s2 if m == 2}\n",
    "print(s)"
   ]
  },
  {
   "cell_type": "markdown",
   "metadata": {},
   "source": [
    "# 集合函数/关于集合的函数"
   ]
  },
  {
   "cell_type": "code",
   "execution_count": 47,
   "metadata": {},
   "outputs": [
    {
     "name": "stdout",
     "output_type": "stream",
     "text": [
      "10\n",
      "1552342\n",
      "1\n"
     ]
    }
   ],
   "source": [
    "# len, max, min: 跟其他基本函数一致\n",
    "s = {123,3241,121151,1,32,314,1552342,1,2,3,1,3,2,4,1,3,2,1,3,1}\n",
    "print(len(s))\n",
    "print(max(s))\n",
    "print(min(s))"
   ]
  },
  {
   "cell_type": "code",
   "execution_count": 49,
   "metadata": {},
   "outputs": [
    {
     "name": "stdout",
     "output_type": "stream",
     "text": [
      "(123, 3241, 121151, 1, 32, 314, 1552342, 1, 2, 3, 1, 3, 2, 4, 1, 3, 2, 1, 3, 1)\n",
      "{32, 1, 2, 3, 4, 3241, 1552342, 314, 123, 121151}\n"
     ]
    }
   ],
   "source": [
    "# set: 生成一个集合\n",
    "l = (123,3241,121151,1,32,314,1552342,1,2,3,1,3,2,4,1,3,2,1,3,1)\n",
    "\n",
    "s = set(l)\n",
    "\n",
    "print(l)\n",
    "print(s)"
   ]
  },
  {
   "cell_type": "code",
   "execution_count": 50,
   "metadata": {},
   "outputs": [
    {
     "name": "stdout",
     "output_type": "stream",
     "text": [
      "{1, 2, 3, 4, 5, 6}\n"
     ]
    }
   ],
   "source": [
    "# add: 向集合内添加元素\n",
    "s = {1,2,3,5,6}\n",
    "s.add(4)\n",
    "print(s)"
   ]
  },
  {
   "cell_type": "code",
   "execution_count": 52,
   "metadata": {},
   "outputs": [
    {
     "name": "stdout",
     "output_type": "stream",
     "text": [
      "1815413222088\n",
      "set()\n",
      "1815413222088\n"
     ]
    }
   ],
   "source": [
    "# clear: 清空\n",
    "s = {1,2,3,5,6}\n",
    "print(id(s))\n",
    "s.clear()\n",
    "print(s)\n",
    "print(id(s))\n",
    "# 结果表明clear函数是原地清空数据"
   ]
  },
  {
   "cell_type": "code",
   "execution_count": 13,
   "metadata": {},
   "outputs": [
    {
     "name": "stdout",
     "output_type": "stream",
     "text": [
      "{1, 2, 6, 9, 13}\n",
      "{2, 6, 9, 13}\n",
      "******************************\n",
      "{2, 6, 9, 13}\n",
      "{6, 9, 13}\n",
      "no data here\n"
     ]
    }
   ],
   "source": [
    "# copy: 拷贝\n",
    "# remove: 移除指定的值, 直接改变原有值,如果要删除的值不存在, 报错\n",
    "# discard: 移除集合中指定的值,跟remove一样,但是如果要删除的话,不报错\n",
    "s = {13,2,4,1,6,9}\n",
    "\n",
    "s.remove(4)\n",
    "print(s)\n",
    "s.discard(1)\n",
    "print(s)\n",
    "\n",
    "print(\"*\" * 30)\n",
    "s.discard(100)\n",
    "print(s)\n",
    "\n",
    "if 2 in s:\n",
    "    s.remove(2)\n",
    "print(s)\n",
    "\n",
    "# 为何remove不存在的值会报keyerror\n",
    "\n",
    "try:\n",
    "    s.remove(99)\n",
    "except:\n",
    "    print(\"no data here\")"
   ]
  },
  {
   "cell_type": "code",
   "execution_count": 15,
   "metadata": {},
   "outputs": [
    {
     "name": "stdout",
     "output_type": "stream",
     "text": [
      "{1, 2, 10, 5}\n",
      "1\n",
      "{2, 10, 5}\n"
     ]
    }
   ],
   "source": [
    "# pop 随机移除一个元素,哈希顺序\n",
    "s = {1,2,5,1,10}\n",
    "print(s)\n",
    "a = s.pop()\n",
    "print(a)\n",
    "print(s)"
   ]
  },
  {
   "cell_type": "code",
   "execution_count": 22,
   "metadata": {},
   "outputs": [
    {
     "name": "stdout",
     "output_type": "stream",
     "text": [
      "{1, 2, 3}\n",
      "{1, 2, 3}\n",
      "{8, 6, 7}\n",
      "{8, 6, 7}\n",
      "{4, 5}\n",
      "False\n",
      "{1, 2, 3, 4, 5, 6, 7, 8}\n"
     ]
    }
   ],
   "source": [
    "# 集合函数\n",
    "# 集合运算: 交差并补\n",
    "# intersection: 交集\n",
    "# difference: 差集\n",
    "# union: 并集\n",
    "# issubset: 检查一个集合是否为另一个集合的子集\n",
    "# issuperset: 检查一个集合是否为另一个集合的超集\n",
    "\n",
    "s1 = {1,2,3,4,5}\n",
    "s2 = {4,5,6,7,8}\n",
    "\n",
    "a = s1 - s2\n",
    "s_1 = s1.difference(s2)\n",
    "print(a)\n",
    "print(s_1)\n",
    "\n",
    "b = s2 - s1\n",
    "s_2 = s2.difference(s1)\n",
    "print(s_2)\n",
    "print(b)\n",
    "\n",
    "s_3 = s1.intersection(s2)\n",
    "print(s_3)\n",
    "\n",
    "s_4 = s1.issubset(s2)\n",
    "print(s_4)\n",
    "\n",
    "s_5 = s1.union(s2)\n",
    "print(s_5)"
   ]
  },
  {
   "cell_type": "code",
   "execution_count": 24,
   "metadata": {},
   "outputs": [
    {
     "name": "stdout",
     "output_type": "stream",
     "text": [
      "{1, 2, 3}\n"
     ]
    }
   ],
   "source": [
    "# 集合的数学操作\n",
    "s1 = {1,2,3,4,5}\n",
    "s2 = {4,5,6,7,8}\n",
    "\n",
    "s_1 = s1 - s2\n",
    "print(s_1)\n",
    "\n",
    "s_2 = s1 + s2\n",
    "print(s_2)"
   ]
  },
  {
   "cell_type": "markdown",
   "metadata": {},
   "source": [
    "# frozenset: 冰冻集合\n",
    "- 冰冻集合就是不可以进行任何修改的集合\n",
    "- frozenset是一种特殊集合"
   ]
  },
  {
   "cell_type": "code",
   "execution_count": 28,
   "metadata": {},
   "outputs": [
    {
     "name": "stdout",
     "output_type": "stream",
     "text": [
      "<class 'frozenset'>\n",
      "frozenset()\n"
     ]
    }
   ],
   "source": [
    "# 创建\n",
    "s = {1,3,5,2}\n",
    "s = frozenset()\n",
    "print(type(s))\n",
    "print(s)\n",
    "\n",
    "for i in s:\n",
    "    print(i)"
   ]
  },
  {
   "cell_type": "markdown",
   "metadata": {},
   "source": [
    "# dict字典\n",
    "- 字典是一种组合数据, 没有顺序的组合数据, 数据以键值对形式出现"
   ]
  },
  {
   "cell_type": "code",
   "execution_count": 41,
   "metadata": {},
   "outputs": [
    {
     "name": "stdout",
     "output_type": "stream",
     "text": [
      "<class 'dict'>\n",
      "{}\n",
      "<class 'dict'>\n",
      "{}\n",
      "<class 'dict'>\n",
      "{'key': 'value', 'one': 1, 'tow': 2, 'three': 3}\n",
      "<class 'dict'>\n",
      "{'key': 'value', 'one': 1, 'tow': 2, 'three': 3}\n",
      "<class 'dict'>\n",
      "{'key': 'value', 'one': 1, 'tow': 2, 'three': 3}\n",
      "<class 'dict'>\n",
      "{'one': 1, 'two': 2, 'three': 3}\n"
     ]
    }
   ],
   "source": [
    "# 字典的创建\n",
    "# 创建空字典1\n",
    "d = {}\n",
    "print(type(d))\n",
    "print(d)\n",
    "\n",
    "# 创建空字典2\n",
    "d = dict()\n",
    "print(type(d))\n",
    "print(d)\n",
    "\n",
    "# 创建有值的字典\n",
    "# 每一组数据中,键和值用冒号隔开\n",
    "# 每一对键值用逗号隔开\n",
    "d = {\"key\":\"value\", \"one\":1, \"two\":2, \"three\":3}\n",
    "print(type(d))\n",
    "print(d)\n",
    "\n",
    "# 用dict创建有内容字典1\n",
    "d = dict({\"key\":\"value\", \"one\":1, \"two\":2, \"three\":3})\n",
    "print(type(d))\n",
    "print(d)\n",
    "\n",
    "# 用dict创建有内容字典2\n",
    "# 利用关键字参数\n",
    "d = dict(key=\"value\", one=1, tow=2, three=3)\n",
    "print(type(d))\n",
    "print(d)\n",
    "\n",
    "# 不建议使用\n",
    "d = dict([(\"one\", 1), (\"two\", 2), (\"three\",3)])\n",
    "print(type(d))\n",
    "print(d)"
   ]
  },
  {
   "cell_type": "markdown",
   "metadata": {},
   "source": [
    "# 字典的特征\n",
    "- 字典是序列类型,但是是无序序列,所以没有分片和索引\n",
    "- 字典中的数据每个都由键值对组成, 即kv对\n",
    "    - key: 必须是可哈希的值,比如int, string, float, tuple等,但是, list, set, dict不行\n",
    "    - value: 任何值"
   ]
  },
  {
   "cell_type": "code",
   "execution_count": 47,
   "metadata": {},
   "outputs": [
    {
     "name": "stdout",
     "output_type": "stream",
     "text": [
      "2\n",
      "{'key': 'value', 'one': 111, 'tow': 2, 'three': 3}\n",
      "{'one': 111, 'tow': 2, 'three': 3}\n"
     ]
    }
   ],
   "source": [
    "# 字典常见操作\n",
    "# 访问数据\n",
    "d = {\"key\":\"value\", \"one\":1, \"two\":2, \"three\":3}\n",
    "\n",
    "# 注意访问格式\n",
    "# 中括号内是键值\n",
    "print(d[\"tow\"])\n",
    "\n",
    "# dict重新赋值\n",
    "d[\"one\"] = 111\n",
    "print(d)\n",
    "\n",
    "# 删除数据的操作\n",
    "# 使用del操作\n",
    "del d[\"key\"]\n",
    "print(d)"
   ]
  },
  {
   "cell_type": "code",
   "execution_count": 53,
   "metadata": {},
   "outputs": [
    {
     "name": "stdout",
     "output_type": "stream",
     "text": [
      "True\n",
      "False\n",
      "False\n",
      "key in dict\n"
     ]
    }
   ],
   "source": [
    "# 成员检测, in, not in\n",
    "# 成员检测检测的是key内容\n",
    "d = {\"key\":\"value\", \"one\":1, \"two\":2, \"three\":3}\n",
    "print(\"key\" in d)\n",
    "print(\"1\" in d)\n",
    "print((\"two\",2) in d)\n",
    "\n",
    "if \"key\" in d:\n",
    "    print(\"key in dict\")\n",
    "\n",
    "if 1 in d:\n",
    "    print(\"value in dict\")\n",
    "\n",
    "if (\"one\", 1) in d:\n",
    "    print(\"kv in dict\")"
   ]
  },
  {
   "cell_type": "code",
   "execution_count": 57,
   "metadata": {},
   "outputs": [
    {
     "name": "stdout",
     "output_type": "stream",
     "text": [
      "key value\n",
      "one 1\n",
      "two 2\n",
      "three 3\n",
      "******************************\n",
      "key value\n",
      "one 1\n",
      "two 2\n",
      "three 3\n",
      "******************************\n",
      "value\n",
      "1\n",
      "2\n",
      "3\n",
      "******************************\n",
      "key value\n",
      "one 1\n",
      "two 2\n",
      "three 3\n"
     ]
    }
   ],
   "source": [
    "# 遍历在python2 和 python3 中区别比较大, 代码不通用\n",
    "# 按key来使用for循环\n",
    "d = {\"key\":\"value\", \"one\":1, \"two\":2, \"three\":3}\n",
    "\n",
    "# 使用for循环, 直接按key值访问\n",
    "for k in d:\n",
    "    print(k, d[k])\n",
    "    \n",
    "print(\"*\" * 30)\n",
    "\n",
    "# 上述代码可以改写成如下:\n",
    "for k in d.keys():\n",
    "    print(k, d[k])\n",
    "    \n",
    "print(\"*\" * 30)\n",
    "\n",
    "# 只访问字典的值\n",
    "for v in d.values():\n",
    "    print(v)\n",
    "    \n",
    "print(\"*\" * 30)\n",
    "\n",
    "# 注意以下特殊用法,dict.items()\n",
    "for k,v in d.items():\n",
    "    print(k,v)"
   ]
  },
  {
   "cell_type": "markdown",
   "metadata": {},
   "source": [
    "# 字典生成式"
   ]
  },
  {
   "cell_type": "code",
   "execution_count": 63,
   "metadata": {},
   "outputs": [
    {
     "name": "stdout",
     "output_type": "stream",
     "text": [
      "<class 'dict'>\n",
      "{'key': 'value', 'one': 1, 'two': 2, 'three': 3}\n",
      "<class 'dict'>\n",
      "{'two': 2}\n"
     ]
    }
   ],
   "source": [
    "d = {\"key\":\"value\", \"one\":1, \"two\":2, \"three\":3}\n",
    "\n",
    "# 常规字典生成式\n",
    "dd = {k:v for k,v in d.items()}\n",
    "print(type(dd))\n",
    "print(dd)\n",
    "\n",
    "# 加限制条件的典生成式\n",
    "# 注意key类型\n",
    "# dd = {k:v for k,v in d.items() if v % 2 == 0}\n",
    "dd = {k:v for k,v in d.items() if type(v) == int and v % 2 == 0}\n",
    "print(type(dd))\n",
    "print(dd)"
   ]
  },
  {
   "cell_type": "markdown",
   "metadata": {},
   "source": [
    "# 字典相关函数"
   ]
  },
  {
   "cell_type": "code",
   "execution_count": 66,
   "metadata": {},
   "outputs": [
    {
     "name": "stdout",
     "output_type": "stream",
     "text": [
      "{'key': 'value', 'one': 1, 'two': 2, 'three': 3}\n",
      "4\n",
      "two\n",
      "key\n",
      "{'key': 'value', 'one': 1, 'two': 2, 'three': 3}\n"
     ]
    }
   ],
   "source": [
    "# 通用函数: len, max, min, dict\n",
    "# str(字典): 返回字典的字符串格式\n",
    "\n",
    "d = {\"key\":\"value\", \"one\":1, \"two\":2, \"three\":3}\n",
    "print(str(d))\n",
    "\n",
    "print(len(d))\n",
    "print(max(d))\n",
    "print(min(d))\n",
    "print(dict(d))"
   ]
  },
  {
   "cell_type": "code",
   "execution_count": 69,
   "metadata": {},
   "outputs": [
    {
     "name": "stdout",
     "output_type": "stream",
     "text": [
      "<class 'dict_items'>\n",
      "dict_items([('key', 'value'), ('one', 1), ('two', 2), ('three', 3)])\n",
      "{}\n"
     ]
    }
   ],
   "source": [
    "# clear: 清空字典\n",
    "# items: 返回字典的键值对组成的元组格式\n",
    "\n",
    "d = {\"key\":\"value\", \"one\":1, \"two\":2, \"three\":3}\n",
    "i = d.items()\n",
    "print(type(i))\n",
    "print(i)\n",
    "\n",
    "d.clear()\n",
    "print(d)"
   ]
  },
  {
   "cell_type": "code",
   "execution_count": 70,
   "metadata": {},
   "outputs": [
    {
     "name": "stdout",
     "output_type": "stream",
     "text": [
      "<class 'dict_keys'>\n",
      "dict_keys([])\n"
     ]
    }
   ],
   "source": [
    "# keys: 返回字典的键组成的一个结构\n",
    "k = d.keys()\n",
    "print(type(k))\n",
    "print(k)"
   ]
  },
  {
   "cell_type": "code",
   "execution_count": 71,
   "metadata": {},
   "outputs": [
    {
     "name": "stdout",
     "output_type": "stream",
     "text": [
      "<class 'dict_values'>\n",
      "dict_values([])\n"
     ]
    }
   ],
   "source": [
    "# values: 同理, 一个可迭代的结构\n",
    "v = d.values()\n",
    "print(type(v))\n",
    "print(v)"
   ]
  },
  {
   "cell_type": "code",
   "execution_count": 78,
   "metadata": {},
   "outputs": [
    {
     "name": "stdout",
     "output_type": "stream",
     "text": [
      "value\n",
      "value\n",
      "None\n",
      "not exists\n",
      "2\n"
     ]
    }
   ],
   "source": [
    "# get: 根据指定键返回相应的值, 好处是, 可以设置默认值\n",
    "d = {\"key\":\"value\", \"one\":1, \"two\":2, \"three\":3}\n",
    "print(d.get(\"key\"))\n",
    "print(d[\"key\"])\n",
    "\n",
    "# get默认值是None, 可以设置\n",
    "print(d.get(\"nokey\"))\n",
    "#print(d[\"nokey\"])\n",
    "\n",
    "print(d.get(\"novalue\",\"not exists\"))\n",
    "print(d.get(\"two\",\"not exists\"))\n"
   ]
  },
  {
   "cell_type": "code",
   "execution_count": 79,
   "metadata": {},
   "outputs": [
    {
     "name": "stdout",
     "output_type": "stream",
     "text": [
      "{'one': 'algrithm', 'two': 'algrithm', 'three': 'algrithm'}\n"
     ]
    }
   ],
   "source": [
    "# fromkeys: 使用指定的序列作为键, 使用一个值作为字典的所有键的值\n",
    "l = [\"one\", \"two\", \"three\"]\n",
    "# 注意fromkeys两个参数的类型\n",
    "# 注意fromkeys的调用主体\n",
    "d = dict.fromkeys(l,\"algrithm\")\n",
    "print(d)"
   ]
  }
 ],
 "metadata": {
  "kernelspec": {
   "display_name": "Python 3",
   "language": "python",
   "name": "python3"
  },
  "language_info": {
   "codemirror_mode": {
    "name": "ipython",
    "version": 3
   },
   "file_extension": ".py",
   "mimetype": "text/x-python",
   "name": "python",
   "nbconvert_exporter": "python",
   "pygments_lexer": "ipython3",
   "version": "3.6.5"
  }
 },
 "nbformat": 4,
 "nbformat_minor": 2
}
